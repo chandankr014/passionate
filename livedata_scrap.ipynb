{
  "cells": [
    {
      "cell_type": "markdown",
      "metadata": {
        "id": "view-in-github",
        "colab_type": "text"
      },
      "source": [
        "<a href=\"https://colab.research.google.com/github/chandankr014/passionate/blob/master/livedata_scrap.ipynb\" target=\"_parent\"><img src=\"https://colab.research.google.com/assets/colab-badge.svg\" alt=\"Open In Colab\"/></a>"
      ]
    },
    {
      "cell_type": "markdown",
      "id": "0667ae5a",
      "metadata": {
        "id": "0667ae5a"
      },
      "source": [
        "# scraping data \n",
        "#### from yahoo finance"
      ]
    },
    {
      "cell_type": "code",
      "execution_count": 1,
      "id": "559b2a9d",
      "metadata": {
        "id": "559b2a9d"
      },
      "outputs": [],
      "source": [
        "import numpy as np\n",
        "import pandas as pd\n",
        "import yfinance as yf\n"
      ]
    },
    {
      "cell_type": "code",
      "execution_count": 2,
      "id": "bc8ce2db",
      "metadata": {
        "id": "bc8ce2db"
      },
      "outputs": [],
      "source": [
        "# nifty = yf.download(tickers='^NSEI', period='1d', interval='1m')\n"
      ]
    },
    {
      "cell_type": "code",
      "execution_count": 3,
      "id": "9331289f",
      "metadata": {
        "id": "9331289f"
      },
      "outputs": [],
      "source": [
        "import matplotlib.pyplot as plt\n",
        "import seaborn as sns\n",
        "sns.set_style('whitegrid')\n",
        "plt.style.use(\"fivethirtyeight\")\n",
        "%matplotlib inline\n",
        "\n",
        "# For reading stock data from yahoo\n",
        "from pandas_datareader.data import DataReader\n"
      ]
    },
    {
      "cell_type": "code",
      "execution_count": 4,
      "id": "cebfe24e",
      "metadata": {
        "colab": {
          "base_uri": "https://localhost:8080/"
        },
        "id": "cebfe24e",
        "outputId": "0ea8dce8-9458-4c88-cb27-89bbd8942527"
      },
      "outputs": [
        {
          "output_type": "stream",
          "name": "stdout",
          "text": [
            "\r[*********************100%***********************]  1 of 1 completed\n"
          ]
        }
      ],
      "source": [
        "# For time stamps\n",
        "from datetime import datetime\n",
        "company_name = [\"NIFTY50\", \"STATE BANK OF INDIA\", \"TATA STEEL\", \"ADANI POWER\", \"HDFC AMC\"]\n",
        "stk_symbol = ['^NSEI', 'SBIN.NS', 'TATASTEEL.NS', 'ADANIPOWER.NS', 'HDFCAMC.NS']\n",
        "i_stk = 1\n",
        "prd = '1wk'\n",
        "ivl = '1m'\n",
        "stock_data = yf.download(tickers=stk_symbol[i_stk], period=prd, interval=ivl)\n"
      ]
    },
    {
      "cell_type": "code",
      "execution_count": 5,
      "id": "efa727c8",
      "metadata": {
        "colab": {
          "base_uri": "https://localhost:8080/",
          "height": 455
        },
        "id": "efa727c8",
        "outputId": "9cd6c6b5-52cd-4a4a-90cd-558cc1a3b804"
      },
      "outputs": [
        {
          "output_type": "execute_result",
          "data": {
            "text/plain": [
              "                                 Open        High         Low       Close  \\\n",
              "Datetime                                                                    \n",
              "2023-03-20 09:15:00+05:30  525.349976  526.049988  521.000000  523.049988   \n",
              "2023-03-20 09:16:00+05:30  523.500000  523.650024  521.900024  522.549988   \n",
              "2023-03-20 09:17:00+05:30  522.349976  523.500000  522.200012  522.799988   \n",
              "2023-03-20 09:18:00+05:30  522.799988  524.450012  522.650024  522.849976   \n",
              "2023-03-20 09:19:00+05:30  523.250000  523.799988  522.849976  523.799988   \n",
              "...                               ...         ...         ...         ...   \n",
              "2023-03-24 15:25:00+05:30  503.899994  504.750000  503.750000  504.700012   \n",
              "2023-03-24 15:26:00+05:30  504.500000  504.899994  504.250000  504.899994   \n",
              "2023-03-24 15:27:00+05:30  504.850006  505.250000  504.750000  505.149994   \n",
              "2023-03-24 15:28:00+05:30  505.100006  505.399994  504.950012  505.399994   \n",
              "2023-03-24 15:29:00+05:30  505.250000  505.399994  504.649994  505.049988   \n",
              "\n",
              "                            Adj Close  Volume  \n",
              "Datetime                                       \n",
              "2023-03-20 09:15:00+05:30  523.049988       0  \n",
              "2023-03-20 09:16:00+05:30  522.549988  158101  \n",
              "2023-03-20 09:17:00+05:30  522.799988   86300  \n",
              "2023-03-20 09:18:00+05:30  522.849976   74157  \n",
              "2023-03-20 09:19:00+05:30  523.799988   46973  \n",
              "...                               ...     ...  \n",
              "2023-03-24 15:25:00+05:30  504.700012  145607  \n",
              "2023-03-24 15:26:00+05:30  504.899994  116427  \n",
              "2023-03-24 15:27:00+05:30  505.149994  129397  \n",
              "2023-03-24 15:28:00+05:30  505.399994  148545  \n",
              "2023-03-24 15:29:00+05:30  505.049988  144490  \n",
              "\n",
              "[1874 rows x 6 columns]"
            ],
            "text/html": [
              "\n",
              "  <div id=\"df-a6b3ca0c-c621-40ce-af6b-a68cffdb0479\">\n",
              "    <div class=\"colab-df-container\">\n",
              "      <div>\n",
              "<style scoped>\n",
              "    .dataframe tbody tr th:only-of-type {\n",
              "        vertical-align: middle;\n",
              "    }\n",
              "\n",
              "    .dataframe tbody tr th {\n",
              "        vertical-align: top;\n",
              "    }\n",
              "\n",
              "    .dataframe thead th {\n",
              "        text-align: right;\n",
              "    }\n",
              "</style>\n",
              "<table border=\"1\" class=\"dataframe\">\n",
              "  <thead>\n",
              "    <tr style=\"text-align: right;\">\n",
              "      <th></th>\n",
              "      <th>Open</th>\n",
              "      <th>High</th>\n",
              "      <th>Low</th>\n",
              "      <th>Close</th>\n",
              "      <th>Adj Close</th>\n",
              "      <th>Volume</th>\n",
              "    </tr>\n",
              "    <tr>\n",
              "      <th>Datetime</th>\n",
              "      <th></th>\n",
              "      <th></th>\n",
              "      <th></th>\n",
              "      <th></th>\n",
              "      <th></th>\n",
              "      <th></th>\n",
              "    </tr>\n",
              "  </thead>\n",
              "  <tbody>\n",
              "    <tr>\n",
              "      <th>2023-03-20 09:15:00+05:30</th>\n",
              "      <td>525.349976</td>\n",
              "      <td>526.049988</td>\n",
              "      <td>521.000000</td>\n",
              "      <td>523.049988</td>\n",
              "      <td>523.049988</td>\n",
              "      <td>0</td>\n",
              "    </tr>\n",
              "    <tr>\n",
              "      <th>2023-03-20 09:16:00+05:30</th>\n",
              "      <td>523.500000</td>\n",
              "      <td>523.650024</td>\n",
              "      <td>521.900024</td>\n",
              "      <td>522.549988</td>\n",
              "      <td>522.549988</td>\n",
              "      <td>158101</td>\n",
              "    </tr>\n",
              "    <tr>\n",
              "      <th>2023-03-20 09:17:00+05:30</th>\n",
              "      <td>522.349976</td>\n",
              "      <td>523.500000</td>\n",
              "      <td>522.200012</td>\n",
              "      <td>522.799988</td>\n",
              "      <td>522.799988</td>\n",
              "      <td>86300</td>\n",
              "    </tr>\n",
              "    <tr>\n",
              "      <th>2023-03-20 09:18:00+05:30</th>\n",
              "      <td>522.799988</td>\n",
              "      <td>524.450012</td>\n",
              "      <td>522.650024</td>\n",
              "      <td>522.849976</td>\n",
              "      <td>522.849976</td>\n",
              "      <td>74157</td>\n",
              "    </tr>\n",
              "    <tr>\n",
              "      <th>2023-03-20 09:19:00+05:30</th>\n",
              "      <td>523.250000</td>\n",
              "      <td>523.799988</td>\n",
              "      <td>522.849976</td>\n",
              "      <td>523.799988</td>\n",
              "      <td>523.799988</td>\n",
              "      <td>46973</td>\n",
              "    </tr>\n",
              "    <tr>\n",
              "      <th>...</th>\n",
              "      <td>...</td>\n",
              "      <td>...</td>\n",
              "      <td>...</td>\n",
              "      <td>...</td>\n",
              "      <td>...</td>\n",
              "      <td>...</td>\n",
              "    </tr>\n",
              "    <tr>\n",
              "      <th>2023-03-24 15:25:00+05:30</th>\n",
              "      <td>503.899994</td>\n",
              "      <td>504.750000</td>\n",
              "      <td>503.750000</td>\n",
              "      <td>504.700012</td>\n",
              "      <td>504.700012</td>\n",
              "      <td>145607</td>\n",
              "    </tr>\n",
              "    <tr>\n",
              "      <th>2023-03-24 15:26:00+05:30</th>\n",
              "      <td>504.500000</td>\n",
              "      <td>504.899994</td>\n",
              "      <td>504.250000</td>\n",
              "      <td>504.899994</td>\n",
              "      <td>504.899994</td>\n",
              "      <td>116427</td>\n",
              "    </tr>\n",
              "    <tr>\n",
              "      <th>2023-03-24 15:27:00+05:30</th>\n",
              "      <td>504.850006</td>\n",
              "      <td>505.250000</td>\n",
              "      <td>504.750000</td>\n",
              "      <td>505.149994</td>\n",
              "      <td>505.149994</td>\n",
              "      <td>129397</td>\n",
              "    </tr>\n",
              "    <tr>\n",
              "      <th>2023-03-24 15:28:00+05:30</th>\n",
              "      <td>505.100006</td>\n",
              "      <td>505.399994</td>\n",
              "      <td>504.950012</td>\n",
              "      <td>505.399994</td>\n",
              "      <td>505.399994</td>\n",
              "      <td>148545</td>\n",
              "    </tr>\n",
              "    <tr>\n",
              "      <th>2023-03-24 15:29:00+05:30</th>\n",
              "      <td>505.250000</td>\n",
              "      <td>505.399994</td>\n",
              "      <td>504.649994</td>\n",
              "      <td>505.049988</td>\n",
              "      <td>505.049988</td>\n",
              "      <td>144490</td>\n",
              "    </tr>\n",
              "  </tbody>\n",
              "</table>\n",
              "<p>1874 rows × 6 columns</p>\n",
              "</div>\n",
              "      <button class=\"colab-df-convert\" onclick=\"convertToInteractive('df-a6b3ca0c-c621-40ce-af6b-a68cffdb0479')\"\n",
              "              title=\"Convert this dataframe to an interactive table.\"\n",
              "              style=\"display:none;\">\n",
              "        \n",
              "  <svg xmlns=\"http://www.w3.org/2000/svg\" height=\"24px\"viewBox=\"0 0 24 24\"\n",
              "       width=\"24px\">\n",
              "    <path d=\"M0 0h24v24H0V0z\" fill=\"none\"/>\n",
              "    <path d=\"M18.56 5.44l.94 2.06.94-2.06 2.06-.94-2.06-.94-.94-2.06-.94 2.06-2.06.94zm-11 1L8.5 8.5l.94-2.06 2.06-.94-2.06-.94L8.5 2.5l-.94 2.06-2.06.94zm10 10l.94 2.06.94-2.06 2.06-.94-2.06-.94-.94-2.06-.94 2.06-2.06.94z\"/><path d=\"M17.41 7.96l-1.37-1.37c-.4-.4-.92-.59-1.43-.59-.52 0-1.04.2-1.43.59L10.3 9.45l-7.72 7.72c-.78.78-.78 2.05 0 2.83L4 21.41c.39.39.9.59 1.41.59.51 0 1.02-.2 1.41-.59l7.78-7.78 2.81-2.81c.8-.78.8-2.07 0-2.86zM5.41 20L4 18.59l7.72-7.72 1.47 1.35L5.41 20z\"/>\n",
              "  </svg>\n",
              "      </button>\n",
              "      \n",
              "  <style>\n",
              "    .colab-df-container {\n",
              "      display:flex;\n",
              "      flex-wrap:wrap;\n",
              "      gap: 12px;\n",
              "    }\n",
              "\n",
              "    .colab-df-convert {\n",
              "      background-color: #E8F0FE;\n",
              "      border: none;\n",
              "      border-radius: 50%;\n",
              "      cursor: pointer;\n",
              "      display: none;\n",
              "      fill: #1967D2;\n",
              "      height: 32px;\n",
              "      padding: 0 0 0 0;\n",
              "      width: 32px;\n",
              "    }\n",
              "\n",
              "    .colab-df-convert:hover {\n",
              "      background-color: #E2EBFA;\n",
              "      box-shadow: 0px 1px 2px rgba(60, 64, 67, 0.3), 0px 1px 3px 1px rgba(60, 64, 67, 0.15);\n",
              "      fill: #174EA6;\n",
              "    }\n",
              "\n",
              "    [theme=dark] .colab-df-convert {\n",
              "      background-color: #3B4455;\n",
              "      fill: #D2E3FC;\n",
              "    }\n",
              "\n",
              "    [theme=dark] .colab-df-convert:hover {\n",
              "      background-color: #434B5C;\n",
              "      box-shadow: 0px 1px 3px 1px rgba(0, 0, 0, 0.15);\n",
              "      filter: drop-shadow(0px 1px 2px rgba(0, 0, 0, 0.3));\n",
              "      fill: #FFFFFF;\n",
              "    }\n",
              "  </style>\n",
              "\n",
              "      <script>\n",
              "        const buttonEl =\n",
              "          document.querySelector('#df-a6b3ca0c-c621-40ce-af6b-a68cffdb0479 button.colab-df-convert');\n",
              "        buttonEl.style.display =\n",
              "          google.colab.kernel.accessAllowed ? 'block' : 'none';\n",
              "\n",
              "        async function convertToInteractive(key) {\n",
              "          const element = document.querySelector('#df-a6b3ca0c-c621-40ce-af6b-a68cffdb0479');\n",
              "          const dataTable =\n",
              "            await google.colab.kernel.invokeFunction('convertToInteractive',\n",
              "                                                     [key], {});\n",
              "          if (!dataTable) return;\n",
              "\n",
              "          const docLinkHtml = 'Like what you see? Visit the ' +\n",
              "            '<a target=\"_blank\" href=https://colab.research.google.com/notebooks/data_table.ipynb>data table notebook</a>'\n",
              "            + ' to learn more about interactive tables.';\n",
              "          element.innerHTML = '';\n",
              "          dataTable['output_type'] = 'display_data';\n",
              "          await google.colab.output.renderOutput(dataTable, element);\n",
              "          const docLink = document.createElement('div');\n",
              "          docLink.innerHTML = docLinkHtml;\n",
              "          element.appendChild(docLink);\n",
              "        }\n",
              "      </script>\n",
              "    </div>\n",
              "  </div>\n",
              "  "
            ]
          },
          "metadata": {},
          "execution_count": 5
        }
      ],
      "source": [
        "stock_data"
      ]
    },
    {
      "cell_type": "code",
      "execution_count": 6,
      "id": "17a633f7",
      "metadata": {
        "colab": {
          "base_uri": "https://localhost:8080/",
          "height": 296
        },
        "id": "17a633f7",
        "outputId": "221a1857-e372-4d19-adab-c9172f92f5e5"
      },
      "outputs": [
        {
          "output_type": "execute_result",
          "data": {
            "text/plain": [
              "<Axes: xlabel='Datetime'>"
            ]
          },
          "metadata": {},
          "execution_count": 6
        },
        {
          "output_type": "display_data",
          "data": {
            "text/plain": [
              "<Figure size 432x288 with 1 Axes>"
            ],
            "image/png": "[encoded data removed]"
          },
          "metadata": {
            "needs_background": "light"
          }
        }
      ],
      "source": [
        "#plotting moving averages\n",
        "ma_day = [50, 200]\n",
        "\n",
        "for ma in ma_day:\n",
        "    for company in stk_symbol:\n",
        "        column_name = f\"MA for {ma} days\"\n",
        "        stock_data[column_name] = stock_data['Adj Close'].rolling(ma).mean()\n",
        "        \n",
        "\n",
        "stock_data[['Adj Close', 'MA for 50 days', 'MA for 200 days']].plot()#.set_title(company_name[i_stk])\n"
      ]
    },
    {
      "cell_type": "code",
      "execution_count": 7,
      "id": "e690baba",
      "metadata": {
        "colab": {
          "base_uri": "https://localhost:8080/",
          "height": 455
        },
        "id": "e690baba",
        "outputId": "65bc61db-dd44-4d1d-f760-78ac0ce1f2a4"
      },
      "outputs": [
        {
          "output_type": "execute_result",
          "data": {
            "text/plain": [
              "                                 Open        High         Low       Close  \\\n",
              "Datetime                                                                    \n",
              "2023-03-20 12:34:00+05:30  517.200012  517.250000  516.950012  517.099976   \n",
              "2023-03-20 12:35:00+05:30  517.099976  517.099976  516.400024  516.500000   \n",
              "2023-03-20 12:36:00+05:30  516.450012  516.950012  516.450012  516.700012   \n",
              "2023-03-20 12:37:00+05:30  516.750000  516.799988  516.400024  516.500000   \n",
              "2023-03-20 12:38:00+05:30  516.700012  516.900024  516.450012  516.599976   \n",
              "...                               ...         ...         ...         ...   \n",
              "2023-03-24 15:25:00+05:30  503.899994  504.750000  503.750000  504.700012   \n",
              "2023-03-24 15:26:00+05:30  504.500000  504.899994  504.250000  504.899994   \n",
              "2023-03-24 15:27:00+05:30  504.850006  505.250000  504.750000  505.149994   \n",
              "2023-03-24 15:28:00+05:30  505.100006  505.399994  504.950012  505.399994   \n",
              "2023-03-24 15:29:00+05:30  505.250000  505.399994  504.649994  505.049988   \n",
              "\n",
              "                            Adj Close  Volume  MA for 50 days  MA for 200 days  \n",
              "Datetime                                                                        \n",
              "2023-03-20 12:34:00+05:30  517.099976   19184      518.235999       520.044998  \n",
              "2023-03-20 12:35:00+05:30  516.500000   20409      518.187998       520.012248  \n",
              "2023-03-20 12:36:00+05:30  516.700012   17902      518.141998       519.982998  \n",
              "2023-03-20 12:37:00+05:30  516.500000   14428      518.086998       519.951498  \n",
              "2023-03-20 12:38:00+05:30  516.599976   17722      518.038998       519.920248  \n",
              "...                               ...     ...             ...              ...  \n",
              "2023-03-24 15:25:00+05:30  504.700012  145607      506.533000       510.525000  \n",
              "2023-03-24 15:26:00+05:30  504.899994  116427      506.488000       510.481000  \n",
              "2023-03-24 15:27:00+05:30  505.149994  129397      506.444000       510.437750  \n",
              "2023-03-24 15:28:00+05:30  505.399994  148545      506.412000       510.398250  \n",
              "2023-03-24 15:29:00+05:30  505.049988  144490      506.368999       510.356500  \n",
              "\n",
              "[1675 rows x 8 columns]"
            ],
            "text/html": [
              "\n",
              "  <div id=\"df-87328d4d-effd-4119-912c-ef44de3c741c\">\n",
              "    <div class=\"colab-df-container\">\n",
              "      <div>\n",
              "<style scoped>\n",
              "    .dataframe tbody tr th:only-of-type {\n",
              "        vertical-align: middle;\n",
              "    }\n",
              "\n",
              "    .dataframe tbody tr th {\n",
              "        vertical-align: top;\n",
              "    }\n",
              "\n",
              "    .dataframe thead th {\n",
              "        text-align: right;\n",
              "    }\n",
              "</style>\n",
              "<table border=\"1\" class=\"dataframe\">\n",
              "  <thead>\n",
              "    <tr style=\"text-align: right;\">\n",
              "      <th></th>\n",
              "      <th>Open</th>\n",
              "      <th>High</th>\n",
              "      <th>Low</th>\n",
              "      <th>Close</th>\n",
              "      <th>Adj Close</th>\n",
              "      <th>Volume</th>\n",
              "      <th>MA for 50 days</th>\n",
              "      <th>MA for 200 days</th>\n",
              "    </tr>\n",
              "    <tr>\n",
              "      <th>Datetime</th>\n",
              "      <th></th>\n",
              "      <th></th>\n",
              "      <th></th>\n",
              "      <th></th>\n",
              "      <th></th>\n",
              "      <th></th>\n",
              "      <th></th>\n",
              "      <th></th>\n",
              "    </tr>\n",
              "  </thead>\n",
              "  <tbody>\n",
              "    <tr>\n",
              "      <th>2023-03-20 12:34:00+05:30</th>\n",
              "      <td>517.200012</td>\n",
              "      <td>517.250000</td>\n",
              "      <td>516.950012</td>\n",
              "      <td>517.099976</td>\n",
              "      <td>517.099976</td>\n",
              "      <td>19184</td>\n",
              "      <td>518.235999</td>\n",
              "      <td>520.044998</td>\n",
              "    </tr>\n",
              "    <tr>\n",
              "      <th>2023-03-20 12:35:00+05:30</th>\n",
              "      <td>517.099976</td>\n",
              "      <td>517.099976</td>\n",
              "      <td>516.400024</td>\n",
              "      <td>516.500000</td>\n",
              "      <td>516.500000</td>\n",
              "      <td>20409</td>\n",
              "      <td>518.187998</td>\n",
              "      <td>520.012248</td>\n",
              "    </tr>\n",
              "    <tr>\n",
              "      <th>2023-03-20 12:36:00+05:30</th>\n",
              "      <td>516.450012</td>\n",
              "      <td>516.950012</td>\n",
              "      <td>516.450012</td>\n",
              "      <td>516.700012</td>\n",
              "      <td>516.700012</td>\n",
              "      <td>17902</td>\n",
              "      <td>518.141998</td>\n",
              "      <td>519.982998</td>\n",
              "    </tr>\n",
              "    <tr>\n",
              "      <th>2023-03-20 12:37:00+05:30</th>\n",
              "      <td>516.750000</td>\n",
              "      <td>516.799988</td>\n",
              "      <td>516.400024</td>\n",
              "      <td>516.500000</td>\n",
              "      <td>516.500000</td>\n",
              "      <td>14428</td>\n",
              "      <td>518.086998</td>\n",
              "      <td>519.951498</td>\n",
              "    </tr>\n",
              "    <tr>\n",
              "      <th>2023-03-20 12:38:00+05:30</th>\n",
              "      <td>516.700012</td>\n",
              "      <td>516.900024</td>\n",
              "      <td>516.450012</td>\n",
              "      <td>516.599976</td>\n",
              "      <td>516.599976</td>\n",
              "      <td>17722</td>\n",
              "      <td>518.038998</td>\n",
              "      <td>519.920248</td>\n",
              "    </tr>\n",
              "    <tr>\n",
              "      <th>...</th>\n",
              "      <td>...</td>\n",
              "      <td>...</td>\n",
              "      <td>...</td>\n",
              "      <td>...</td>\n",
              "      <td>...</td>\n",
              "      <td>...</td>\n",
              "      <td>...</td>\n",
              "      <td>...</td>\n",
              "    </tr>\n",
              "    <tr>\n",
              "      <th>2023-03-24 15:25:00+05:30</th>\n",
              "      <td>503.899994</td>\n",
              "      <td>504.750000</td>\n",
              "      <td>503.750000</td>\n",
              "      <td>504.700012</td>\n",
              "      <td>504.700012</td>\n",
              "      <td>145607</td>\n",
              "      <td>506.533000</td>\n",
              "      <td>510.525000</td>\n",
              "    </tr>\n",
              "    <tr>\n",
              "      <th>2023-03-24 15:26:00+05:30</th>\n",
              "      <td>504.500000</td>\n",
              "      <td>504.899994</td>\n",
              "      <td>504.250000</td>\n",
              "      <td>504.899994</td>\n",
              "      <td>504.899994</td>\n",
              "      <td>116427</td>\n",
              "      <td>506.488000</td>\n",
              "      <td>510.481000</td>\n",
              "    </tr>\n",
              "    <tr>\n",
              "      <th>2023-03-24 15:27:00+05:30</th>\n",
              "      <td>504.850006</td>\n",
              "      <td>505.250000</td>\n",
              "      <td>504.750000</td>\n",
              "      <td>505.149994</td>\n",
              "      <td>505.149994</td>\n",
              "      <td>129397</td>\n",
              "      <td>506.444000</td>\n",
              "      <td>510.437750</td>\n",
              "    </tr>\n",
              "    <tr>\n",
              "      <th>2023-03-24 15:28:00+05:30</th>\n",
              "      <td>505.100006</td>\n",
              "      <td>505.399994</td>\n",
              "      <td>504.950012</td>\n",
              "      <td>505.399994</td>\n",
              "      <td>505.399994</td>\n",
              "      <td>148545</td>\n",
              "      <td>506.412000</td>\n",
              "      <td>510.398250</td>\n",
              "    </tr>\n",
              "    <tr>\n",
              "      <th>2023-03-24 15:29:00+05:30</th>\n",
              "      <td>505.250000</td>\n",
              "      <td>505.399994</td>\n",
              "      <td>504.649994</td>\n",
              "      <td>505.049988</td>\n",
              "      <td>505.049988</td>\n",
              "      <td>144490</td>\n",
              "      <td>506.368999</td>\n",
              "      <td>510.356500</td>\n",
              "    </tr>\n",
              "  </tbody>\n",
              "</table>\n",
              "<p>1675 rows × 8 columns</p>\n",
              "</div>\n",
              "      <button class=\"colab-df-convert\" onclick=\"convertToInteractive('df-87328d4d-effd-4119-912c-ef44de3c741c')\"\n",
              "              title=\"Convert this dataframe to an interactive table.\"\n",
              "              style=\"display:none;\">\n",
              "        \n",
              "  <svg xmlns=\"http://www.w3.org/2000/svg\" height=\"24px\"viewBox=\"0 0 24 24\"\n",
              "       width=\"24px\">\n",
              "    <path d=\"M0 0h24v24H0V0z\" fill=\"none\"/>\n",
              "    <path d=\"M18.56 5.44l.94 2.06.94-2.06 2.06-.94-2.06-.94-.94-2.06-.94 2.06-2.06.94zm-11 1L8.5 8.5l.94-2.06 2.06-.94-2.06-.94L8.5 2.5l-.94 2.06-2.06.94zm10 10l.94 2.06.94-2.06 2.06-.94-2.06-.94-.94-2.06-.94 2.06-2.06.94z\"/><path d=\"M17.41 7.96l-1.37-1.37c-.4-.4-.92-.59-1.43-.59-.52 0-1.04.2-1.43.59L10.3 9.45l-7.72 7.72c-.78.78-.78 2.05 0 2.83L4 21.41c.39.39.9.59 1.41.59.51 0 1.02-.2 1.41-.59l7.78-7.78 2.81-2.81c.8-.78.8-2.07 0-2.86zM5.41 20L4 18.59l7.72-7.72 1.47 1.35L5.41 20z\"/>\n",
              "  </svg>\n",
              "      </button>\n",
              "      \n",
              "  <style>\n",
              "    .colab-df-container {\n",
              "      display:flex;\n",
              "      flex-wrap:wrap;\n",
              "      gap: 12px;\n",
              "    }\n",
              "\n",
              "    .colab-df-convert {\n",
              "      background-color: #E8F0FE;\n",
              "      border: none;\n",
              "      border-radius: 50%;\n",
              "      cursor: pointer;\n",
              "      display: none;\n",
              "      fill: #1967D2;\n",
              "      height: 32px;\n",
              "      padding: 0 0 0 0;\n",
              "      width: 32px;\n",
              "    }\n",
              "\n",
              "    .colab-df-convert:hover {\n",
              "      background-color: #E2EBFA;\n",
              "      box-shadow: 0px 1px 2px rgba(60, 64, 67, 0.3), 0px 1px 3px 1px rgba(60, 64, 67, 0.15);\n",
              "      fill: #174EA6;\n",
              "    }\n",
              "\n",
              "    [theme=dark] .colab-df-convert {\n",
              "      background-color: #3B4455;\n",
              "      fill: #D2E3FC;\n",
              "    }\n",
              "\n",
              "    [theme=dark] .colab-df-convert:hover {\n",
              "      background-color: #434B5C;\n",
              "      box-shadow: 0px 1px 3px 1px rgba(0, 0, 0, 0.15);\n",
              "      filter: drop-shadow(0px 1px 2px rgba(0, 0, 0, 0.3));\n",
              "      fill: #FFFFFF;\n",
              "    }\n",
              "  </style>\n",
              "\n",
              "      <script>\n",
              "        const buttonEl =\n",
              "          document.querySelector('#df-87328d4d-effd-4119-912c-ef44de3c741c button.colab-df-convert');\n",
              "        buttonEl.style.display =\n",
              "          google.colab.kernel.accessAllowed ? 'block' : 'none';\n",
              "\n",
              "        async function convertToInteractive(key) {\n",
              "          const element = document.querySelector('#df-87328d4d-effd-4119-912c-ef44de3c741c');\n",
              "          const dataTable =\n",
              "            await google.colab.kernel.invokeFunction('convertToInteractive',\n",
              "                                                     [key], {});\n",
              "          if (!dataTable) return;\n",
              "\n",
              "          const docLinkHtml = 'Like what you see? Visit the ' +\n",
              "            '<a target=\"_blank\" href=https://colab.research.google.com/notebooks/data_table.ipynb>data table notebook</a>'\n",
              "            + ' to learn more about interactive tables.';\n",
              "          element.innerHTML = '';\n",
              "          dataTable['output_type'] = 'display_data';\n",
              "          await google.colab.output.renderOutput(dataTable, element);\n",
              "          const docLink = document.createElement('div');\n",
              "          docLink.innerHTML = docLinkHtml;\n",
              "          element.appendChild(docLink);\n",
              "        }\n",
              "      </script>\n",
              "    </div>\n",
              "  </div>\n",
              "  "
            ]
          },
          "metadata": {},
          "execution_count": 7
        }
      ],
      "source": [
        "stock_data.dropna()#.drop(['Volume', 'MA for 50 days', 'MA for 200 days'], axis=1, inplace=True)"
      ]
    },
    {
      "cell_type": "code",
      "execution_count": 8,
      "id": "ffdc7f7a",
      "metadata": {
        "colab": {
          "base_uri": "https://localhost:8080/"
        },
        "id": "ffdc7f7a",
        "outputId": "ba652f00-0211-4a2a-bdac-fd18b8c52e42"
      },
      "outputs": [
        {
          "output_type": "stream",
          "name": "stdout",
          "text": [
            "Datetime\n",
            "2023-03-20 09:15:00+05:30         NaN\n",
            "2023-03-20 09:16:00+05:30   -0.000956\n",
            "2023-03-20 09:17:00+05:30    0.000478\n",
            "2023-03-20 09:18:00+05:30    0.000096\n",
            "2023-03-20 09:19:00+05:30    0.001817\n",
            "                               ...   \n",
            "2023-03-24 15:25:00+05:30    0.001488\n",
            "2023-03-24 15:26:00+05:30    0.000396\n",
            "2023-03-24 15:27:00+05:30    0.000495\n",
            "2023-03-24 15:28:00+05:30    0.000495\n",
            "2023-03-24 15:29:00+05:30   -0.000693\n",
            "Name: Daily Return, Length: 1874, dtype: float64\n"
          ]
        }
      ],
      "source": [
        "p_change = stock_data['Adj Close'].pct_change()\n",
        "stock_data['Daily Return'] = p_change\n",
        "print(stock_data['Daily Return'])"
      ]
    },
    {
      "cell_type": "code",
      "execution_count": 9,
      "id": "b89a239c",
      "metadata": {
        "colab": {
          "base_uri": "https://localhost:8080/",
          "height": 313
        },
        "id": "b89a239c",
        "outputId": "7351be62-f22c-4466-94f0-9b6991ce46b1"
      },
      "outputs": [
        {
          "output_type": "execute_result",
          "data": {
            "text/plain": [
              "Text(0.5, 1.0, 'STATE BANK OF INDIA')"
            ]
          },
          "metadata": {},
          "execution_count": 9
        },
        {
          "output_type": "display_data",
          "data": {
            "text/plain": [
              "<Figure size 432x288 with 1 Axes>"
            ],
            "image/png": "[encoded data removed]"
          },
          "metadata": {
            "needs_background": "light"
          }
        }
      ],
      "source": [
        "stock_data['Daily Return'].plot(legend=True, linestyle=':', marker='o').set_title(company_name[i_stk])"
      ]
    },
    {
      "cell_type": "code",
      "execution_count": 10,
      "id": "d72aaa5a",
      "metadata": {
        "colab": {
          "base_uri": "https://localhost:8080/",
          "height": 620
        },
        "id": "d72aaa5a",
        "outputId": "6a9aaf78-680d-481f-e2ea-88c580166c8a"
      },
      "outputs": [
        {
          "output_type": "display_data",
          "data": {
            "text/plain": [
              "<Figure size 1440x720 with 1 Axes>"
            ],
            "image/png": "[encoded data removed]"
          },
          "metadata": {
            "needs_background": "light"
          }
        }
      ],
      "source": [
        "plt.figure(figsize=(20, 10))\n",
        "\n",
        "stock_data['Daily Return'].hist(bins=25)\n",
        "plt.xlabel('Daily Return')\n",
        "plt.ylabel('Counts')\n",
        "plt.title(f'{company_name[i_stk]} return plot')\n",
        "\n",
        "plt.show()"
      ]
    },
    {
      "cell_type": "code",
      "execution_count": 11,
      "id": "5b412cd2",
      "metadata": {
        "colab": {
          "base_uri": "https://localhost:8080/",
          "height": 237
        },
        "id": "5b412cd2",
        "outputId": "738323c6-9660-450d-870d-94d434753ac7"
      },
      "outputs": [
        {
          "output_type": "execute_result",
          "data": {
            "text/plain": [
              "                                 Open        High         Low       Close  \\\n",
              "Datetime                                                                    \n",
              "2023-03-24 15:25:00+05:30  503.899994  504.750000  503.750000  504.700012   \n",
              "2023-03-24 15:26:00+05:30  504.500000  504.899994  504.250000  504.899994   \n",
              "2023-03-24 15:27:00+05:30  504.850006  505.250000  504.750000  505.149994   \n",
              "2023-03-24 15:28:00+05:30  505.100006  505.399994  504.950012  505.399994   \n",
              "2023-03-24 15:29:00+05:30  505.250000  505.399994  504.649994  505.049988   \n",
              "\n",
              "                            Adj Close  Volume  MA for 50 days  \\\n",
              "Datetime                                                        \n",
              "2023-03-24 15:25:00+05:30  504.700012  145607      506.533000   \n",
              "2023-03-24 15:26:00+05:30  504.899994  116427      506.488000   \n",
              "2023-03-24 15:27:00+05:30  505.149994  129397      506.444000   \n",
              "2023-03-24 15:28:00+05:30  505.399994  148545      506.412000   \n",
              "2023-03-24 15:29:00+05:30  505.049988  144490      506.368999   \n",
              "\n",
              "                           MA for 200 days  Daily Return  \n",
              "Datetime                                                  \n",
              "2023-03-24 15:25:00+05:30        510.52500      0.001488  \n",
              "2023-03-24 15:26:00+05:30        510.48100      0.000396  \n",
              "2023-03-24 15:27:00+05:30        510.43775      0.000495  \n",
              "2023-03-24 15:28:00+05:30        510.39825      0.000495  \n",
              "2023-03-24 15:29:00+05:30        510.35650     -0.000693  "
            ],
            "text/html": [
              "\n",
              "  <div id=\"df-704e912e-1c9c-41be-ab9f-e26cc430e8f9\">\n",
              "    <div class=\"colab-df-container\">\n",
              "      <div>\n",
              "<style scoped>\n",
              "    .dataframe tbody tr th:only-of-type {\n",
              "        vertical-align: middle;\n",
              "    }\n",
              "\n",
              "    .dataframe tbody tr th {\n",
              "        vertical-align: top;\n",
              "    }\n",
              "\n",
              "    .dataframe thead th {\n",
              "        text-align: right;\n",
              "    }\n",
              "</style>\n",
              "<table border=\"1\" class=\"dataframe\">\n",
              "  <thead>\n",
              "    <tr style=\"text-align: right;\">\n",
              "      <th></th>\n",
              "      <th>Open</th>\n",
              "      <th>High</th>\n",
              "      <th>Low</th>\n",
              "      <th>Close</th>\n",
              "      <th>Adj Close</th>\n",
              "      <th>Volume</th>\n",
              "      <th>MA for 50 days</th>\n",
              "      <th>MA for 200 days</th>\n",
              "      <th>Daily Return</th>\n",
              "    </tr>\n",
              "    <tr>\n",
              "      <th>Datetime</th>\n",
              "      <th></th>\n",
              "      <th></th>\n",
              "      <th></th>\n",
              "      <th></th>\n",
              "      <th></th>\n",
              "      <th></th>\n",
              "      <th></th>\n",
              "      <th></th>\n",
              "      <th></th>\n",
              "    </tr>\n",
              "  </thead>\n",
              "  <tbody>\n",
              "    <tr>\n",
              "      <th>2023-03-24 15:25:00+05:30</th>\n",
              "      <td>503.899994</td>\n",
              "      <td>504.750000</td>\n",
              "      <td>503.750000</td>\n",
              "      <td>504.700012</td>\n",
              "      <td>504.700012</td>\n",
              "      <td>145607</td>\n",
              "      <td>506.533000</td>\n",
              "      <td>510.52500</td>\n",
              "      <td>0.001488</td>\n",
              "    </tr>\n",
              "    <tr>\n",
              "      <th>2023-03-24 15:26:00+05:30</th>\n",
              "      <td>504.500000</td>\n",
              "      <td>504.899994</td>\n",
              "      <td>504.250000</td>\n",
              "      <td>504.899994</td>\n",
              "      <td>504.899994</td>\n",
              "      <td>116427</td>\n",
              "      <td>506.488000</td>\n",
              "      <td>510.48100</td>\n",
              "      <td>0.000396</td>\n",
              "    </tr>\n",
              "    <tr>\n",
              "      <th>2023-03-24 15:27:00+05:30</th>\n",
              "      <td>504.850006</td>\n",
              "      <td>505.250000</td>\n",
              "      <td>504.750000</td>\n",
              "      <td>505.149994</td>\n",
              "      <td>505.149994</td>\n",
              "      <td>129397</td>\n",
              "      <td>506.444000</td>\n",
              "      <td>510.43775</td>\n",
              "      <td>0.000495</td>\n",
              "    </tr>\n",
              "    <tr>\n",
              "      <th>2023-03-24 15:28:00+05:30</th>\n",
              "      <td>505.100006</td>\n",
              "      <td>505.399994</td>\n",
              "      <td>504.950012</td>\n",
              "      <td>505.399994</td>\n",
              "      <td>505.399994</td>\n",
              "      <td>148545</td>\n",
              "      <td>506.412000</td>\n",
              "      <td>510.39825</td>\n",
              "      <td>0.000495</td>\n",
              "    </tr>\n",
              "    <tr>\n",
              "      <th>2023-03-24 15:29:00+05:30</th>\n",
              "      <td>505.250000</td>\n",
              "      <td>505.399994</td>\n",
              "      <td>504.649994</td>\n",
              "      <td>505.049988</td>\n",
              "      <td>505.049988</td>\n",
              "      <td>144490</td>\n",
              "      <td>506.368999</td>\n",
              "      <td>510.35650</td>\n",
              "      <td>-0.000693</td>\n",
              "    </tr>\n",
              "  </tbody>\n",
              "</table>\n",
              "</div>\n",
              "      <button class=\"colab-df-convert\" onclick=\"convertToInteractive('df-704e912e-1c9c-41be-ab9f-e26cc430e8f9')\"\n",
              "              title=\"Convert this dataframe to an interactive table.\"\n",
              "              style=\"display:none;\">\n",
              "        \n",
              "  <svg xmlns=\"http://www.w3.org/2000/svg\" height=\"24px\"viewBox=\"0 0 24 24\"\n",
              "       width=\"24px\">\n",
              "    <path d=\"M0 0h24v24H0V0z\" fill=\"none\"/>\n",
              "    <path d=\"M18.56 5.44l.94 2.06.94-2.06 2.06-.94-2.06-.94-.94-2.06-.94 2.06-2.06.94zm-11 1L8.5 8.5l.94-2.06 2.06-.94-2.06-.94L8.5 2.5l-.94 2.06-2.06.94zm10 10l.94 2.06.94-2.06 2.06-.94-2.06-.94-.94-2.06-.94 2.06-2.06.94z\"/><path d=\"M17.41 7.96l-1.37-1.37c-.4-.4-.92-.59-1.43-.59-.52 0-1.04.2-1.43.59L10.3 9.45l-7.72 7.72c-.78.78-.78 2.05 0 2.83L4 21.41c.39.39.9.59 1.41.59.51 0 1.02-.2 1.41-.59l7.78-7.78 2.81-2.81c.8-.78.8-2.07 0-2.86zM5.41 20L4 18.59l7.72-7.72 1.47 1.35L5.41 20z\"/>\n",
              "  </svg>\n",
              "      </button>\n",
              "      \n",
              "  <style>\n",
              "    .colab-df-container {\n",
              "      display:flex;\n",
              "      flex-wrap:wrap;\n",
              "      gap: 12px;\n",
              "    }\n",
              "\n",
              "    .colab-df-convert {\n",
              "      background-color: #E8F0FE;\n",
              "      border: none;\n",
              "      border-radius: 50%;\n",
              "      cursor: pointer;\n",
              "      display: none;\n",
              "      fill: #1967D2;\n",
              "      height: 32px;\n",
              "      padding: 0 0 0 0;\n",
              "      width: 32px;\n",
              "    }\n",
              "\n",
              "    .colab-df-convert:hover {\n",
              "      background-color: #E2EBFA;\n",
              "      box-shadow: 0px 1px 2px rgba(60, 64, 67, 0.3), 0px 1px 3px 1px rgba(60, 64, 67, 0.15);\n",
              "      fill: #174EA6;\n",
              "    }\n",
              "\n",
              "    [theme=dark] .colab-df-convert {\n",
              "      background-color: #3B4455;\n",
              "      fill: #D2E3FC;\n",
              "    }\n",
              "\n",
              "    [theme=dark] .colab-df-convert:hover {\n",
              "      background-color: #434B5C;\n",
              "      box-shadow: 0px 1px 3px 1px rgba(0, 0, 0, 0.15);\n",
              "      filter: drop-shadow(0px 1px 2px rgba(0, 0, 0, 0.3));\n",
              "      fill: #FFFFFF;\n",
              "    }\n",
              "  </style>\n",
              "\n",
              "      <script>\n",
              "        const buttonEl =\n",
              "          document.querySelector('#df-704e912e-1c9c-41be-ab9f-e26cc430e8f9 button.colab-df-convert');\n",
              "        buttonEl.style.display =\n",
              "          google.colab.kernel.accessAllowed ? 'block' : 'none';\n",
              "\n",
              "        async function convertToInteractive(key) {\n",
              "          const element = document.querySelector('#df-704e912e-1c9c-41be-ab9f-e26cc430e8f9');\n",
              "          const dataTable =\n",
              "            await google.colab.kernel.invokeFunction('convertToInteractive',\n",
              "                                                     [key], {});\n",
              "          if (!dataTable) return;\n",
              "\n",
              "          const docLinkHtml = 'Like what you see? Visit the ' +\n",
              "            '<a target=\"_blank\" href=https://colab.research.google.com/notebooks/data_table.ipynb>data table notebook</a>'\n",
              "            + ' to learn more about interactive tables.';\n",
              "          element.innerHTML = '';\n",
              "          dataTable['output_type'] = 'display_data';\n",
              "          await google.colab.output.renderOutput(dataTable, element);\n",
              "          const docLink = document.createElement('div');\n",
              "          docLink.innerHTML = docLinkHtml;\n",
              "          element.appendChild(docLink);\n",
              "        }\n",
              "      </script>\n",
              "    </div>\n",
              "  </div>\n",
              "  "
            ]
          },
          "metadata": {},
          "execution_count": 11
        }
      ],
      "source": [
        "stock_data.tail()"
      ]
    },
    {
      "cell_type": "code",
      "execution_count": 12,
      "id": "d99a8713",
      "metadata": {
        "colab": {
          "base_uri": "https://localhost:8080/"
        },
        "id": "d99a8713",
        "outputId": "f09f89fc-f926-4a94-d635-72d82583008b"
      },
      "outputs": [
        {
          "output_type": "execute_result",
          "data": {
            "text/plain": [
              "[523.0499877929688, 522.5499877929688, 522.7999877929688, 522.8499755859375]"
            ]
          },
          "metadata": {},
          "execution_count": 12
        }
      ],
      "source": [
        "dt = stock_data['Adj Close'].tolist()\n",
        "dt[:4]"
      ]
    },
    {
      "cell_type": "code",
      "source": [
        "dt_vol = stock_data['Volume'].tolist()\n",
        "dt_vol[:4]"
      ],
      "metadata": {
        "id": "lq6W_GOLkvZu"
      },
      "id": "lq6W_GOLkvZu",
      "execution_count": null,
      "outputs": []
    },
    {
      "cell_type": "code",
      "execution_count": 13,
      "id": "717d575b",
      "metadata": {
        "id": "717d575b"
      },
      "outputs": [],
      "source": [
        "norm_dt = [round(float(i) / max(dt), 4) for i in dt]"
      ]
    },
    {
      "cell_type": "code",
      "execution_count": 14,
      "id": "f65b218f",
      "metadata": {
        "colab": {
          "base_uri": "https://localhost:8080/"
        },
        "id": "f65b218f",
        "outputId": "f7ecc442-2ed4-4523-eff5-e9cca338e0de"
      },
      "outputs": [
        {
          "output_type": "execute_result",
          "data": {
            "text/plain": [
              "[0.9925, 0.9916, 0.992, 0.9921, 0.9939, 0.9923, 0.9916, 0.9909, 0.9914, 0.9918]"
            ]
          },
          "metadata": {},
          "execution_count": 14
        }
      ],
      "source": [
        "norm_dt[:10]"
      ]
    },
    {
      "cell_type": "code",
      "execution_count": null,
      "id": "39476830",
      "metadata": {
        "id": "39476830"
      },
      "outputs": [],
      "source": [
        "# LAST 1 MONTHS CHART\n",
        "plt.figure(figsize=(15,5))\n",
        "plt.title('Close Price History - LAST 1 MONTH', fontweight='bold')\n",
        "plt.plot(dt[:], label=stk_symbol[i_stk])\n",
        "plt.legend()\n",
        "plt.xlabel('Date', fontsize=14)\n",
        "plt.ylabel('Close Price USD ($)', fontsize=14)\n",
        "plt.show()"
      ]
    },
    {
      "cell_type": "code",
      "source": [
        "# LAST 1 MONTHS CHART\n",
        "plt.figure(figsize=(15,5))\n",
        "plt.title('Volume History - LAST 1 MONTH', fontweight='bold')\n",
        "plt.plot(dt[:], label=stk_symbol[i_stk])\n",
        "plt.legend()\n",
        "plt.xlabel('Date', fontsize=14)\n",
        "plt.ylabel('Volume', fontsize=14)\n",
        "plt.show()"
      ],
      "metadata": {
        "id": "jxxjCWYbkYmd"
      },
      "id": "jxxjCWYbkYmd",
      "execution_count": null,
      "outputs": []
    },
    {
      "cell_type": "code",
      "execution_count": 16,
      "id": "81b6e07c",
      "metadata": {
        "colab": {
          "base_uri": "https://localhost:8080/"
        },
        "id": "81b6e07c",
        "outputId": "d6a5ea60-64a7-44b8-9db8-34b357c8a040"
      },
      "outputs": [
        {
          "output_type": "execute_result",
          "data": {
            "text/plain": [
              "[0, 158101, 86300, 74157, 46973]"
            ]
          },
          "metadata": {},
          "execution_count": 16
        }
      ],
      "source": [
        "dt_vol = stock_data['Volume'].tolist()\n",
        "dt_vol[:5]"
      ]
    },
    {
      "cell_type": "code",
      "execution_count": 17,
      "id": "bc2a5355",
      "metadata": {
        "colab": {
          "base_uri": "https://localhost:8080/",
          "height": 351
        },
        "id": "bc2a5355",
        "outputId": "e497a628-62b6-4e38-aa23-490bd027a5ec"
      },
      "outputs": [
        {
          "output_type": "display_data",
          "data": {
            "text/plain": [
              "<Figure size 1080x360 with 1 Axes>"
            ],
            "image/png": "[encoded data removed]"
          },
          "metadata": {
            "needs_background": "light"
          }
        }
      ],
      "source": [
        "try:\n",
        "    norm_dt_vol = [round(float(i) / max(dt_vol), 4) for i in dt_vol]\n",
        "    norm_dt_vol[:5]\n",
        "    # LAST 1 MONTHS CHART\n",
        "    plt.figure(figsize=(15,5))\n",
        "    plt.title('Volume History - LAST 1 MONTH', fontweight='bold')\n",
        "    plt.plot(norm_dt_vol[-30*15:], label=stk_symbol[i_stk], color='r')\n",
        "    plt.legend()\n",
        "    plt.xlabel('Date', fontsize=14)\n",
        "    plt.ylabel('Volume of stock ($)', fontsize=14)\n",
        "    plt.show()\n",
        "except ZeroDivisionError:\n",
        "    print(\"Division by zero!\")"
      ]
    },
    {
      "cell_type": "markdown",
      "id": "4f0ad68c",
      "metadata": {
        "id": "4f0ad68c"
      },
      "source": [
        "## building model"
      ]
    },
    {
      "cell_type": "code",
      "execution_count": 18,
      "id": "5354823e",
      "metadata": {
        "id": "5354823e"
      },
      "outputs": [],
      "source": [
        "import pandas"
      ]
    },
    {
      "cell_type": "code",
      "execution_count": 19,
      "id": "ad46665d",
      "metadata": {
        "id": "ad46665d"
      },
      "outputs": [],
      "source": [
        "from sklearn.preprocessing import MinMaxScaler\n",
        "scaler = MinMaxScaler(feature_range=(0,1))"
      ]
    },
    {
      "cell_type": "code",
      "execution_count": 20,
      "id": "9f46ab43",
      "metadata": {
        "id": "9f46ab43"
      },
      "outputs": [],
      "source": [
        "scaled_dt = scaler.fit_transform(pandas.DataFrame(dt))"
      ]
    },
    {
      "cell_type": "code",
      "execution_count": 21,
      "id": "1729ed19",
      "metadata": {
        "colab": {
          "base_uri": "https://localhost:8080/"
        },
        "id": "1729ed19",
        "outputId": "a3bf87f9-742a-44da-f71c-b222005a529d"
      },
      "outputs": [
        {
          "output_type": "execute_result",
          "data": {
            "text/plain": [
              "numpy.ndarray"
            ]
          },
          "metadata": {},
          "execution_count": 21
        }
      ],
      "source": [
        "scaled_dt[0:10]\n",
        "type(scaled_dt)"
      ]
    },
    {
      "cell_type": "code",
      "execution_count": 22,
      "id": "0c3f6b0d",
      "metadata": {
        "colab": {
          "base_uri": "https://localhost:8080/"
        },
        "id": "0c3f6b0d",
        "outputId": "c1984696-5f47-407e-ed12-0ab2256b46b5"
      },
      "outputs": [
        {
          "output_type": "execute_result",
          "data": {
            "text/plain": [
              "1874"
            ]
          },
          "metadata": {},
          "execution_count": 22
        }
      ],
      "source": [
        "l = len(scaled_dt)\n",
        "l"
      ]
    },
    {
      "cell_type": "code",
      "execution_count": 23,
      "metadata": {
        "colab": {
          "base_uri": "https://localhost:8080/"
        },
        "id": "eaxZDw-5iy_d",
        "outputId": "0f330e9d-192c-4175-b149-50e5772938ae"
      },
      "outputs": [
        {
          "output_type": "stream",
          "name": "stdout",
          "text": [
            "1311\n"
          ]
        }
      ],
      "source": [
        "r=int(l*0.7)\n",
        "print(r)\n",
        "train_data = (scaled_dt[0:r])\n",
        "test_data  = (scaled_dt[r:])"
      ],
      "id": "eaxZDw-5iy_d"
    },
    {
      "cell_type": "code",
      "execution_count": 24,
      "id": "2dc0e1cc",
      "metadata": {
        "colab": {
          "base_uri": "https://localhost:8080/"
        },
        "id": "2dc0e1cc",
        "outputId": "52f2b68c-fa25-4b59-9c7f-363153b74f0f"
      },
      "outputs": [
        {
          "output_type": "stream",
          "name": "stdout",
          "text": [
            "1311\n",
            "<class 'numpy.ndarray'>\n"
          ]
        }
      ],
      "source": [
        "print(len(train_data))\n",
        "print(type(test_data))"
      ]
    },
    {
      "cell_type": "code",
      "execution_count": 25,
      "id": "954d2810",
      "metadata": {
        "id": "954d2810"
      },
      "outputs": [],
      "source": [
        "# convert an array of values into a dataset matrix\n",
        "import numpy\n",
        "\n",
        "def create_dataset(dataset, time_step):\n",
        "    dataX, dataY = [], []\n",
        "    for i in range(len(dataset)-time_step-1):\n",
        "        a = dataset[i:(i+time_step)]   #i=0, 0,1,2,3-----99   100 \n",
        "        dataX.append(a)\n",
        "        dataY.append(dataset[i+time_step:i+time_step+1])\n",
        "    return numpy.array(dataX), numpy.array(dataY)"
      ]
    },
    {
      "cell_type": "code",
      "execution_count": 26,
      "id": "22b02a0f",
      "metadata": {
        "id": "22b02a0f"
      },
      "outputs": [],
      "source": [
        "time_step = 20\n",
        "x_train, y_train = create_dataset(train_data, time_step)\n",
        "x_test, y_test = create_dataset(test_data, time_step)"
      ]
    },
    {
      "cell_type": "code",
      "execution_count": 27,
      "id": "87074030",
      "metadata": {
        "colab": {
          "base_uri": "https://localhost:8080/"
        },
        "id": "87074030",
        "outputId": "603c214e-b2c6-43bc-f66d-171efd7f3064"
      },
      "outputs": [
        {
          "output_type": "stream",
          "name": "stdout",
          "text": [
            "(1290, 20, 1)\n",
            "(1290, 1, 1)\n"
          ]
        }
      ],
      "source": [
        "print(x_train.shape)\n",
        "print(y_train.shape)\n",
        "# print(x_test.shape)\n",
        "# print(y_test.shape)"
      ]
    },
    {
      "cell_type": "code",
      "execution_count": 28,
      "id": "43a2bfe1",
      "metadata": {
        "id": "43a2bfe1"
      },
      "outputs": [],
      "source": [
        "# Reshape the data (we reshape only x data not y)\n",
        "x_train = np.reshape(x_train, (x_train.shape[0], x_train.shape[1], 1))\n",
        "x_test = np.reshape(x_test, (x_test.shape[0], x_test.shape[1], 1))"
      ]
    },
    {
      "cell_type": "code",
      "execution_count": 29,
      "id": "467d5bbc",
      "metadata": {
        "colab": {
          "base_uri": "https://localhost:8080/"
        },
        "id": "467d5bbc",
        "outputId": "f0366182-dd6b-4777-860c-fa15786d09c3"
      },
      "outputs": [
        {
          "output_type": "execute_result",
          "data": {
            "text/plain": [
              "(542, 20, 1)"
            ]
          },
          "metadata": {},
          "execution_count": 29
        }
      ],
      "source": [
        "x_train.shape\n",
        "x_test.shape"
      ]
    },
    {
      "cell_type": "code",
      "execution_count": 30,
      "id": "bc5a7410",
      "metadata": {
        "colab": {
          "base_uri": "https://localhost:8080/"
        },
        "id": "bc5a7410",
        "outputId": "ddc5f6b9-5e50-4825-dae7-fbea6df5c10c"
      },
      "outputs": [
        {
          "output_type": "stream",
          "name": "stdout",
          "text": [
            "Epoch 1/10\n",
            "1290/1290 [==============================] - 42s 27ms/step - loss: 0.0029\n",
            "Epoch 2/10\n",
            "1290/1290 [==============================] - 22s 17ms/step - loss: 9.7093e-04\n",
            "Epoch 3/10\n",
            "1290/1290 [==============================] - 38s 29ms/step - loss: 8.7337e-04\n",
            "Epoch 4/10\n",
            "1290/1290 [==============================] - 23s 18ms/step - loss: 5.2555e-04\n",
            "Epoch 5/10\n",
            "1290/1290 [==============================] - 24s 18ms/step - loss: 5.1267e-04\n",
            "Epoch 6/10\n",
            "1290/1290 [==============================] - 34s 26ms/step - loss: 5.5880e-04\n",
            "Epoch 7/10\n",
            "1290/1290 [==============================] - 25s 19ms/step - loss: 4.6967e-04\n",
            "Epoch 8/10\n",
            "1290/1290 [==============================] - 21s 16ms/step - loss: 4.0928e-04\n",
            "Epoch 9/10\n",
            "1290/1290 [==============================] - 22s 17ms/step - loss: 4.5464e-04\n",
            "Epoch 10/10\n",
            "1290/1290 [==============================] - 21s 16ms/step - loss: 4.1930e-04\n"
          ]
        },
        {
          "output_type": "execute_result",
          "data": {
            "text/plain": [
              "<keras.callbacks.History at 0x7f4209782880>"
            ]
          },
          "metadata": {},
          "execution_count": 30
        }
      ],
      "source": [
        "from keras.models import Sequential\n",
        "from keras.layers import Dense, LSTM\n",
        "\n",
        "# Build the LSTM model\n",
        "model = Sequential()\n",
        "model.add(LSTM(128, return_sequences=True, input_shape= (x_train.shape[1], 1)))\n",
        "model.add(LSTM(64, return_sequences=False))\n",
        "model.add(Dense(25))\n",
        "model.add(Dense(1))\n",
        "\n",
        "# Compile the model\n",
        "model.compile(optimizer='adam', loss='mean_squared_error')\n",
        "\n",
        "# Train the model\n",
        "model.fit(x_train, y_train, batch_size=1, epochs=10)"
      ]
    },
    {
      "cell_type": "code",
      "execution_count": 31,
      "id": "75235880",
      "metadata": {
        "colab": {
          "base_uri": "https://localhost:8080/"
        },
        "id": "75235880",
        "outputId": "1c129a71-4bcf-47be-d59a-d291302390d9"
      },
      "outputs": [
        {
          "output_type": "execute_result",
          "data": {
            "text/plain": [
              "array([[[0.04273505]],\n",
              "\n",
              "       [[0.01281999]],\n",
              "\n",
              "       [[0.        ]],\n",
              "\n",
              "       [[0.02350376]],\n",
              "\n",
              "       [[0.02350376]],\n",
              "\n",
              "       [[0.01495753]],\n",
              "\n",
              "       [[0.04700882]],\n",
              "\n",
              "       [[0.05555505]],\n",
              "\n",
              "       [[0.06623881]],\n",
              "\n",
              "       [[0.07692258]]])"
            ]
          },
          "metadata": {},
          "execution_count": 31
        }
      ],
      "source": [
        "y_test[x_test.shape[0]-10:]"
      ]
    },
    {
      "cell_type": "code",
      "execution_count": 32,
      "id": "7cc19943",
      "metadata": {
        "colab": {
          "base_uri": "https://localhost:8080/"
        },
        "id": "7cc19943",
        "outputId": "ed612555-3a50-47e3-a771-17770569d062"
      },
      "outputs": [
        {
          "output_type": "stream",
          "name": "stdout",
          "text": [
            "17/17 [==============================] - 1s 16ms/step\n",
            "RMS-Error: 0.20827961594162103\n"
          ]
        }
      ],
      "source": [
        "# Get the models predicted price values \n",
        "predictions = model.predict(x_test)\n",
        "\n",
        "# RMSE\n",
        "rmse = np.sqrt(np.mean(((predictions - y_test) ** 2)))\n",
        "print(\"RMS-Error:\",rmse)"
      ]
    },
    {
      "cell_type": "code",
      "execution_count": 33,
      "id": "4a8a1f03",
      "metadata": {
        "colab": {
          "base_uri": "https://localhost:8080/"
        },
        "id": "4a8a1f03",
        "outputId": "d0ace7b5-301f-4ce1-f57e-d0339005e9ce"
      },
      "outputs": [
        {
          "output_type": "execute_result",
          "data": {
            "text/plain": [
              "(542, 1)"
            ]
          },
          "metadata": {},
          "execution_count": 33
        }
      ],
      "source": [
        "predictions.shape\n",
        "# predictions"
      ]
    },
    {
      "cell_type": "code",
      "execution_count": 61,
      "id": "0919d9e9",
      "metadata": {
        "colab": {
          "base_uri": "https://localhost:8080/"
        },
        "id": "0919d9e9",
        "outputId": "2c91c614-aeb9-465f-fe71-ddc980a53788"
      },
      "outputs": [
        {
          "output_type": "execute_result",
          "data": {
            "text/plain": [
              "array([[12655.113],\n",
              "       [12660.304],\n",
              "       [12660.882],\n",
              "       [12663.451],\n",
              "       [12663.246],\n",
              "       [12664.679],\n",
              "       [12659.648],\n",
              "       [12658.009],\n",
              "       [12659.428],\n",
              "       [12656.69 ]], dtype=float32)"
            ]
          },
          "metadata": {},
          "execution_count": 61
        }
      ],
      "source": [
        "predictions = scaler.inverse_transform(predictions)\n",
        "predictions[:10]"
      ]
    },
    {
      "cell_type": "code",
      "execution_count": 35,
      "id": "ad317b01",
      "metadata": {
        "colab": {
          "base_uri": "https://localhost:8080/"
        },
        "id": "ad317b01",
        "outputId": "8c712cdd-f688-4922-9442-7eec67972efa"
      },
      "outputs": [
        {
          "output_type": "execute_result",
          "data": {
            "text/plain": [
              "(542, 20, 1)"
            ]
          },
          "metadata": {},
          "execution_count": 35
        }
      ],
      "source": [
        "x_test.shape"
      ]
    },
    {
      "cell_type": "code",
      "execution_count": 36,
      "id": "f42c8422",
      "metadata": {
        "colab": {
          "base_uri": "https://localhost:8080/"
        },
        "id": "f42c8422",
        "outputId": "10b259e3-68bd-4877-f6d6-167454075acc"
      },
      "outputs": [
        {
          "output_type": "stream",
          "name": "stdout",
          "text": [
            "1332\n"
          ]
        }
      ],
      "source": [
        "const = r+time_step+1\n",
        "print(const)"
      ]
    },
    {
      "cell_type": "code",
      "execution_count": 37,
      "id": "624aa412",
      "metadata": {
        "id": "624aa412"
      },
      "outputs": [],
      "source": [
        "valid = pandas.DataFrame(dt[const:l], columns=['StockName'])"
      ]
    },
    {
      "cell_type": "code",
      "execution_count": 38,
      "id": "733ee40e",
      "metadata": {
        "colab": {
          "base_uri": "https://localhost:8080/",
          "height": 423
        },
        "id": "733ee40e",
        "outputId": "b2036a90-f4ee-4ce3-a7f5-bb3a900d1a79"
      },
      "outputs": [
        {
          "output_type": "execute_result",
          "data": {
            "text/plain": [
              "       StockName  Predictions\n",
              "1332  519.299988   519.295593\n",
              "1333  519.400024   519.517395\n",
              "1334  519.400024   519.542114\n",
              "1335  519.450012   519.651917\n",
              "1336  519.250000   519.643127\n",
              "...          ...          ...\n",
              "1869  504.700012   505.356232\n",
              "1870  504.899994   505.216187\n",
              "1871  505.149994   505.760376\n",
              "1872  505.399994   505.929169\n",
              "1873  505.049988   506.149689\n",
              "\n",
              "[542 rows x 2 columns]"
            ],
            "text/html": [
              "\n",
              "  <div id=\"df-3fa32f3f-87d8-4b69-966d-c70deb3c1d2b\">\n",
              "    <div class=\"colab-df-container\">\n",
              "      <div>\n",
              "<style scoped>\n",
              "    .dataframe tbody tr th:only-of-type {\n",
              "        vertical-align: middle;\n",
              "    }\n",
              "\n",
              "    .dataframe tbody tr th {\n",
              "        vertical-align: top;\n",
              "    }\n",
              "\n",
              "    .dataframe thead th {\n",
              "        text-align: right;\n",
              "    }\n",
              "</style>\n",
              "<table border=\"1\" class=\"dataframe\">\n",
              "  <thead>\n",
              "    <tr style=\"text-align: right;\">\n",
              "      <th></th>\n",
              "      <th>StockName</th>\n",
              "      <th>Predictions</th>\n",
              "    </tr>\n",
              "  </thead>\n",
              "  <tbody>\n",
              "    <tr>\n",
              "      <th>1332</th>\n",
              "      <td>519.299988</td>\n",
              "      <td>519.295593</td>\n",
              "    </tr>\n",
              "    <tr>\n",
              "      <th>1333</th>\n",
              "      <td>519.400024</td>\n",
              "      <td>519.517395</td>\n",
              "    </tr>\n",
              "    <tr>\n",
              "      <th>1334</th>\n",
              "      <td>519.400024</td>\n",
              "      <td>519.542114</td>\n",
              "    </tr>\n",
              "    <tr>\n",
              "      <th>1335</th>\n",
              "      <td>519.450012</td>\n",
              "      <td>519.651917</td>\n",
              "    </tr>\n",
              "    <tr>\n",
              "      <th>1336</th>\n",
              "      <td>519.250000</td>\n",
              "      <td>519.643127</td>\n",
              "    </tr>\n",
              "    <tr>\n",
              "      <th>...</th>\n",
              "      <td>...</td>\n",
              "      <td>...</td>\n",
              "    </tr>\n",
              "    <tr>\n",
              "      <th>1869</th>\n",
              "      <td>504.700012</td>\n",
              "      <td>505.356232</td>\n",
              "    </tr>\n",
              "    <tr>\n",
              "      <th>1870</th>\n",
              "      <td>504.899994</td>\n",
              "      <td>505.216187</td>\n",
              "    </tr>\n",
              "    <tr>\n",
              "      <th>1871</th>\n",
              "      <td>505.149994</td>\n",
              "      <td>505.760376</td>\n",
              "    </tr>\n",
              "    <tr>\n",
              "      <th>1872</th>\n",
              "      <td>505.399994</td>\n",
              "      <td>505.929169</td>\n",
              "    </tr>\n",
              "    <tr>\n",
              "      <th>1873</th>\n",
              "      <td>505.049988</td>\n",
              "      <td>506.149689</td>\n",
              "    </tr>\n",
              "  </tbody>\n",
              "</table>\n",
              "<p>542 rows × 2 columns</p>\n",
              "</div>\n",
              "      <button class=\"colab-df-convert\" onclick=\"convertToInteractive('df-3fa32f3f-87d8-4b69-966d-c70deb3c1d2b')\"\n",
              "              title=\"Convert this dataframe to an interactive table.\"\n",
              "              style=\"display:none;\">\n",
              "        \n",
              "  <svg xmlns=\"http://www.w3.org/2000/svg\" height=\"24px\"viewBox=\"0 0 24 24\"\n",
              "       width=\"24px\">\n",
              "    <path d=\"M0 0h24v24H0V0z\" fill=\"none\"/>\n",
              "    <path d=\"M18.56 5.44l.94 2.06.94-2.06 2.06-.94-2.06-.94-.94-2.06-.94 2.06-2.06.94zm-11 1L8.5 8.5l.94-2.06 2.06-.94-2.06-.94L8.5 2.5l-.94 2.06-2.06.94zm10 10l.94 2.06.94-2.06 2.06-.94-2.06-.94-.94-2.06-.94 2.06-2.06.94z\"/><path d=\"M17.41 7.96l-1.37-1.37c-.4-.4-.92-.59-1.43-.59-.52 0-1.04.2-1.43.59L10.3 9.45l-7.72 7.72c-.78.78-.78 2.05 0 2.83L4 21.41c.39.39.9.59 1.41.59.51 0 1.02-.2 1.41-.59l7.78-7.78 2.81-2.81c.8-.78.8-2.07 0-2.86zM5.41 20L4 18.59l7.72-7.72 1.47 1.35L5.41 20z\"/>\n",
              "  </svg>\n",
              "      </button>\n",
              "      \n",
              "  <style>\n",
              "    .colab-df-container {\n",
              "      display:flex;\n",
              "      flex-wrap:wrap;\n",
              "      gap: 12px;\n",
              "    }\n",
              "\n",
              "    .colab-df-convert {\n",
              "      background-color: #E8F0FE;\n",
              "      border: none;\n",
              "      border-radius: 50%;\n",
              "      cursor: pointer;\n",
              "      display: none;\n",
              "      fill: #1967D2;\n",
              "      height: 32px;\n",
              "      padding: 0 0 0 0;\n",
              "      width: 32px;\n",
              "    }\n",
              "\n",
              "    .colab-df-convert:hover {\n",
              "      background-color: #E2EBFA;\n",
              "      box-shadow: 0px 1px 2px rgba(60, 64, 67, 0.3), 0px 1px 3px 1px rgba(60, 64, 67, 0.15);\n",
              "      fill: #174EA6;\n",
              "    }\n",
              "\n",
              "    [theme=dark] .colab-df-convert {\n",
              "      background-color: #3B4455;\n",
              "      fill: #D2E3FC;\n",
              "    }\n",
              "\n",
              "    [theme=dark] .colab-df-convert:hover {\n",
              "      background-color: #434B5C;\n",
              "      box-shadow: 0px 1px 3px 1px rgba(0, 0, 0, 0.15);\n",
              "      filter: drop-shadow(0px 1px 2px rgba(0, 0, 0, 0.3));\n",
              "      fill: #FFFFFF;\n",
              "    }\n",
              "  </style>\n",
              "\n",
              "      <script>\n",
              "        const buttonEl =\n",
              "          document.querySelector('#df-3fa32f3f-87d8-4b69-966d-c70deb3c1d2b button.colab-df-convert');\n",
              "        buttonEl.style.display =\n",
              "          google.colab.kernel.accessAllowed ? 'block' : 'none';\n",
              "\n",
              "        async function convertToInteractive(key) {\n",
              "          const element = document.querySelector('#df-3fa32f3f-87d8-4b69-966d-c70deb3c1d2b');\n",
              "          const dataTable =\n",
              "            await google.colab.kernel.invokeFunction('convertToInteractive',\n",
              "                                                     [key], {});\n",
              "          if (!dataTable) return;\n",
              "\n",
              "          const docLinkHtml = 'Like what you see? Visit the ' +\n",
              "            '<a target=\"_blank\" href=https://colab.research.google.com/notebooks/data_table.ipynb>data table notebook</a>'\n",
              "            + ' to learn more about interactive tables.';\n",
              "          element.innerHTML = '';\n",
              "          dataTable['output_type'] = 'display_data';\n",
              "          await google.colab.output.renderOutput(dataTable, element);\n",
              "          const docLink = document.createElement('div');\n",
              "          docLink.innerHTML = docLinkHtml;\n",
              "          element.appendChild(docLink);\n",
              "        }\n",
              "      </script>\n",
              "    </div>\n",
              "  </div>\n",
              "  "
            ]
          },
          "metadata": {},
          "execution_count": 38
        }
      ],
      "source": [
        "valid['Predictions'] = predictions  \n",
        "valid.set_index(np.arange(const,l,1))"
      ]
    },
    {
      "cell_type": "code",
      "execution_count": 39,
      "id": "0515a063",
      "metadata": {
        "colab": {
          "base_uri": "https://localhost:8080/",
          "height": 513
        },
        "id": "0515a063",
        "outputId": "c82b1f6b-4f03-4951-f915-67711de3fe83"
      },
      "outputs": [
        {
          "output_type": "display_data",
          "data": {
            "text/plain": [
              "<Figure size 1152x576 with 1 Axes>"
            ],
            "image/png": "[encoded data removed]"
          },
          "metadata": {
            "needs_background": "light"
          }
        }
      ],
      "source": [
        "## plotting predictions along with validations\n",
        "plt.figure(figsize=(16,8))\n",
        "plt.title('Model')\n",
        "plt.xlabel('Date')\n",
        "plt.ylabel('Close Price USD ($)')\n",
        "plt.plot(dt[0:r])\n",
        "plt.plot(valid[['StockName', 'Predictions']])\n",
        "plt.legend(['Train', 'Validation', 'Predictions'], loc='lower right')\n",
        "plt.show()"
      ]
    },
    {
      "cell_type": "markdown",
      "id": "388e255b",
      "metadata": {
        "id": "388e255b"
      },
      "source": [
        "### predicting future price using the model"
      ]
    },
    {
      "cell_type": "code",
      "execution_count": 40,
      "id": "daaaed69",
      "metadata": {
        "colab": {
          "base_uri": "https://localhost:8080/"
        },
        "id": "daaaed69",
        "outputId": "8c332297-c164-45ad-e85e-8bce5cb2b143"
      },
      "outputs": [
        {
          "output_type": "execute_result",
          "data": {
            "text/plain": [
              "(542, 1, 1)"
            ]
          },
          "metadata": {},
          "execution_count": 40
        }
      ],
      "source": [
        "y_test.shape"
      ]
    },
    {
      "cell_type": "code",
      "execution_count": 41,
      "id": "4e353f56",
      "metadata": {
        "colab": {
          "base_uri": "https://localhost:8080/"
        },
        "id": "4e353f56",
        "outputId": "bf813bcc-9164-44b7-ed37-6bb86d8443a1"
      },
      "outputs": [
        {
          "output_type": "stream",
          "name": "stdout",
          "text": [
            "17/17 [==============================] - 1s 3ms/step\n"
          ]
        }
      ],
      "source": [
        "p = model.predict(y_test)"
      ]
    },
    {
      "cell_type": "code",
      "execution_count": 42,
      "id": "cb9f8c12",
      "metadata": {
        "id": "cb9f8c12"
      },
      "outputs": [],
      "source": [
        "p = scaler.inverse_transform(p)"
      ]
    },
    {
      "cell_type": "code",
      "execution_count": 43,
      "id": "2c789e60",
      "metadata": {
        "colab": {
          "base_uri": "https://localhost:8080/"
        },
        "id": "2c789e60",
        "outputId": "46ae6724-71d5-46ee-d774-7590a2ca2767"
      },
      "outputs": [
        {
          "output_type": "execute_result",
          "data": {
            "text/plain": [
              "[518.2263793945312,\n",
              " 518.2777099609375,\n",
              " 518.3807373046875,\n",
              " 518.3807373046875,\n",
              " 518.4322509765625,\n",
              " 518.2263793945312,\n",
              " 518.1237182617188,\n",
              " 518.175048828125,\n",
              " 518.0723876953125,\n",
              " 518.1237182617188,\n",
              " 518.0723876953125,\n",
              " 518.021240234375,\n",
              " 517.6643676757812,\n",
              " 517.8679809570312,\n",
              " 517.8679809570312,\n",
              " 518.021240234375,\n",
              " 517.9700927734375,\n",
              " 517.8679809570312,\n",
              " 517.7659912109375,\n",
              " 517.9700927734375,\n",
              " 517.9190063476562,\n",
              " 518.1237182617188,\n",
              " 518.2777099609375,\n",
              " 517.9700927734375,\n",
              " 517.9700927734375,\n",
              " 518.021240234375,\n",
              " 517.9190063476562,\n",
              " 517.8679809570312,\n",
              " 517.4614868164062,\n",
              " 517.562744140625,\n",
              " 517.2594604492188,\n",
              " 517.3099365234375,\n",
              " 517.3099365234375,\n",
              " 517.7151489257812,\n",
              " 517.7151489257812,\n",
              " 517.613525390625,\n",
              " 517.613525390625,\n",
              " 517.7659912109375,\n",
              " 517.6643676757812,\n",
              " 517.9700927734375,\n",
              " 518.021240234375,\n",
              " 517.9190063476562,\n",
              " 517.9190063476562,\n",
              " 518.0723876953125,\n",
              " 517.8679809570312,\n",
              " 517.8169555664062,\n",
              " 517.8679809570312,\n",
              " 518.0723876953125,\n",
              " 518.021240234375,\n",
              " 518.021240234375,\n",
              " 518.0723876953125,\n",
              " 518.2777099609375,\n",
              " 518.0723876953125,\n",
              " 518.175048828125,\n",
              " 518.2263793945312,\n",
              " 518.2263793945312,\n",
              " 518.2777099609375,\n",
              " 518.2777099609375,\n",
              " 518.2263793945312,\n",
              " 518.1237182617188,\n",
              " 517.8169555664062,\n",
              " 517.613525390625,\n",
              " 517.3099365234375,\n",
              " 517.3604736328125,\n",
              " 517.2594604492188,\n",
              " 516.9581298828125,\n",
              " 516.7582397460938,\n",
              " 516.6586303710938,\n",
              " 516.80810546875,\n",
              " 516.9581298828125,\n",
              " 517.0082397460938,\n",
              " 517.2594604492188,\n",
              " 517.1588134765625,\n",
              " 517.1588134765625,\n",
              " 517.108642578125,\n",
              " 517.0082397460938,\n",
              " 517.108642578125,\n",
              " 516.9581298828125,\n",
              " 517.2594604492188,\n",
              " 517.1588134765625,\n",
              " 516.9581298828125,\n",
              " 517.0082397460938,\n",
              " 517.108642578125,\n",
              " 517.2091674804688,\n",
              " 517.4614868164062,\n",
              " 517.1588134765625,\n",
              " 517.4109497070312,\n",
              " 517.3604736328125,\n",
              " 517.3604736328125,\n",
              " 517.2594604492188,\n",
              " 517.2594604492188,\n",
              " 517.1588134765625,\n",
              " 516.9581298828125,\n",
              " 516.5095825195312,\n",
              " 516.6089477539062,\n",
              " 516.6089477539062,\n",
              " 516.4600219726562,\n",
              " 516.5095825195312,\n",
              " 516.5095825195312,\n",
              " 516.7084350585938,\n",
              " 516.7084350585938,\n",
              " 516.5095825195312,\n",
              " 516.2622680664062,\n",
              " 515.722900390625,\n",
              " 515.5283203125,\n",
              " 515.2382202148438,\n",
              " 515.1419067382812,\n",
              " 515.0938110351562,\n",
              " 514.0971069335938,\n",
              " 514.2850952148438,\n",
              " 514.3322143554688,\n",
              " 514.8065795898438,\n",
              " 514.8065795898438,\n",
              " 514.5687255859375,\n",
              " 514.4266357421875,\n",
              " 514.4739379882812,\n",
              " 514.2850952148438,\n",
              " 514.4266357421875,\n",
              " 513.5383911132812,\n",
              " 512.8966064453125,\n",
              " 512.8511352539062,\n",
              " 512.48974609375,\n",
              " 513.078857421875,\n",
              " 513.2620239257812,\n",
              " 512.7604370117188,\n",
              " 513.1245727539062,\n",
              " 513.1245727539062,\n",
              " 513.033203125,\n",
              " 513.078857421875,\n",
              " 512.5797729492188,\n",
              " 512.265625,\n",
              " 511.9542236328125,\n",
              " 512.0429077148438,\n",
              " 512.1318359375,\n",
              " 512.48974609375,\n",
              " 512.48974609375,\n",
              " 512.6699829101562,\n",
              " 512.8511352539062,\n",
              " 513.1245727539062,\n",
              " 513.1245727539062,\n",
              " 513.1245727539062,\n",
              " 513.1702880859375,\n",
              " 512.7152099609375,\n",
              " 512.3551025390625,\n",
              " 512.7604370117188,\n",
              " 512.310302734375,\n",
              " 511.9542236328125,\n",
              " 512.53466796875,\n",
              " 512.310302734375,\n",
              " 512.310302734375,\n",
              " 512.0873413085938,\n",
              " 511.86572265625,\n",
              " 512.0873413085938,\n",
              " 511.7774658203125,\n",
              " 511.86572265625,\n",
              " 512.1318359375,\n",
              " 511.64544677734375,\n",
              " 511.64544677734375,\n",
              " 511.86572265625,\n",
              " 511.6015930175781,\n",
              " 511.689453125,\n",
              " 511.6015930175781,\n",
              " 511.64544677734375,\n",
              " 511.6015930175781,\n",
              " 511.5140075683594,\n",
              " 511.4266357421875,\n",
              " 511.1225891113281,\n",
              " 511.2960205078125,\n",
              " 511.821533203125,\n",
              " 512.6699829101562,\n",
              " 513.5383911132812,\n",
              " 513.7702026367188,\n",
              " 511.9542236328125,\n",
              " 510.4801330566406,\n",
              " 511.03619384765625,\n",
              " 509.8085021972656,\n",
              " 510.1845703125,\n",
              " 510.6076354980469,\n",
              " 510.3108825683594,\n",
              " 510.5225524902344,\n",
              " 510.8641357421875,\n",
              " 511.86572265625,\n",
              " 511.9542236328125,\n",
              " 511.86572265625,\n",
              " 512.39990234375,\n",
              " 513.033203125,\n",
              " 511.9099426269531,\n",
              " 512.5797729492188,\n",
              " 513.033203125,\n",
              " 512.8966064453125,\n",
              " 512.4447631835938,\n",
              " 512.5797729492188,\n",
              " 512.53466796875,\n",
              " 512.48974609375,\n",
              " 512.8966064453125,\n",
              " 513.033203125,\n",
              " 512.8057861328125,\n",
              " 512.7152099609375,\n",
              " 512.0873413085938,\n",
              " 512.7152099609375,\n",
              " 512.8511352539062,\n",
              " 513.033203125,\n",
              " 512.8511352539062,\n",
              " 512.39990234375,\n",
              " 512.1763305664062,\n",
              " 511.9542236328125,\n",
              " 511.9542236328125,\n",
              " 512.6248779296875,\n",
              " 512.6248779296875,\n",
              " 512.265625,\n",
              " 512.3551025390625,\n",
              " 512.39990234375,\n",
              " 512.310302734375,\n",
              " 512.1763305664062,\n",
              " 512.0429077148438,\n",
              " 512.0873413085938,\n",
              " 511.9099426269531,\n",
              " 512.0429077148438,\n",
              " 512.0429077148438,\n",
              " 511.9099426269531,\n",
              " 511.3395080566406,\n",
              " 511.1225891113281,\n",
              " 511.2525634765625,\n",
              " 511.16583251953125,\n",
              " 511.2525634765625,\n",
              " 510.9500427246094,\n",
              " 511.0793762207031,\n",
              " 511.2960205078125,\n",
              " 511.821533203125,\n",
              " 512.310302734375,\n",
              " 511.86572265625,\n",
              " 511.55780029296875,\n",
              " 511.55780029296875,\n",
              " 511.86572265625,\n",
              " 511.9542236328125,\n",
              " 511.821533203125,\n",
              " 511.7774658203125,\n",
              " 511.689453125,\n",
              " 511.64544677734375,\n",
              " 511.1225891113281,\n",
              " 511.2525634765625,\n",
              " 510.82122802734375,\n",
              " 510.735595703125,\n",
              " 510.5650939941406,\n",
              " 510.4801330566406,\n",
              " 510.735595703125,\n",
              " 510.69293212890625,\n",
              " 511.03619384765625,\n",
              " 510.9070739746094,\n",
              " 510.82122802734375,\n",
              " 510.69293212890625,\n",
              " 510.4801330566406,\n",
              " 510.5225524902344,\n",
              " 510.735595703125,\n",
              " 510.6502685546875,\n",
              " 510.69293212890625,\n",
              " 510.5225524902344,\n",
              " 510.5650939941406,\n",
              " 510.5650939941406,\n",
              " 510.1845703125,\n",
              " 510.22662353515625,\n",
              " 510.5650939941406,\n",
              " 510.735595703125,\n",
              " 511.0793762207031,\n",
              " 510.9500427246094,\n",
              " 510.82122802734375,\n",
              " 511.1225891113281,\n",
              " 511.0793762207031,\n",
              " 510.9070739746094,\n",
              " 510.8641357421875,\n",
              " 510.735595703125,\n",
              " 510.8641357421875,\n",
              " 510.6502685546875,\n",
              " 510.6076354980469,\n",
              " 510.3108825683594,\n",
              " 510.4377746582031,\n",
              " 510.3108825683594,\n",
              " 510.4801330566406,\n",
              " 510.69293212890625,\n",
              " 510.9070739746094,\n",
              " 510.99310302734375,\n",
              " 511.03619384765625,\n",
              " 511.2960205078125,\n",
              " 511.7774658203125,\n",
              " 511.86572265625,\n",
              " 511.86572265625,\n",
              " 511.7774658203125,\n",
              " 511.9542236328125,\n",
              " 512.5797729492188,\n",
              " 512.220947265625,\n",
              " 512.0873413085938,\n",
              " 512.1763305664062,\n",
              " 511.9099426269531,\n",
              " 511.64544677734375,\n",
              " 511.821533203125,\n",
              " 511.7334289550781,\n",
              " 511.7774658203125,\n",
              " 511.9542236328125,\n",
              " 511.6015930175781,\n",
              " 511.55780029296875,\n",
              " 511.5140075683594,\n",
              " 511.5140075683594,\n",
              " 511.2960205078125,\n",
              " 510.82122802734375,\n",
              " 510.82122802734375,\n",
              " 511.20916748046875,\n",
              " 511.6015930175781,\n",
              " 511.55780029296875,\n",
              " 511.64544677734375,\n",
              " 511.6015930175781,\n",
              " 511.64544677734375,\n",
              " 511.64544677734375,\n",
              " 512.220947265625,\n",
              " 512.220947265625,\n",
              " 512.1318359375,\n",
              " 512.39990234375,\n",
              " 512.310302734375,\n",
              " 512.310302734375,\n",
              " 512.3551025390625,\n",
              " 512.39990234375,\n",
              " 512.220947265625,\n",
              " 512.265625,\n",
              " 512.0873413085938,\n",
              " 511.3830261230469,\n",
              " 511.7774658203125,\n",
              " 511.689453125,\n",
              " 512.1318359375,\n",
              " 512.4447631835938,\n",
              " 513.3538818359375,\n",
              " 513.1245727539062,\n",
              " 512.8057861328125,\n",
              " 512.8511352539062,\n",
              " 512.8966064453125,\n",
              " 512.5797729492188,\n",
              " 512.39990234375,\n",
              " 512.6699829101562,\n",
              " 512.8057861328125,\n",
              " 512.8511352539062,\n",
              " 512.8966064453125,\n",
              " 512.8511352539062,\n",
              " 512.9420776367188,\n",
              " 512.48974609375,\n",
              " 512.5797729492188,\n",
              " 512.53466796875,\n",
              " 512.6699829101562,\n",
              " 512.6699829101562,\n",
              " 512.6699829101562,\n",
              " 512.6699829101562,\n",
              " 512.9420776367188,\n",
              " 512.6699829101562,\n",
              " 512.6699829101562,\n",
              " 512.8511352539062,\n",
              " 513.033203125,\n",
              " 513.1245727539062,\n",
              " 513.1245727539062,\n",
              " 513.1245727539062,\n",
              " 512.7152099609375,\n",
              " 513.1245727539062,\n",
              " 513.033203125,\n",
              " 513.1245727539062,\n",
              " 513.1245727539062,\n",
              " 513.033203125,\n",
              " 512.7604370117188,\n",
              " 512.48974609375,\n",
              " 512.1763305664062,\n",
              " 512.220947265625,\n",
              " 512.1763305664062,\n",
              " 511.9985046386719,\n",
              " 511.55780029296875,\n",
              " 511.16583251953125,\n",
              " 511.4266357421875,\n",
              " 511.6015930175781,\n",
              " 511.4266357421875,\n",
              " 511.2960205078125,\n",
              " 511.16583251953125,\n",
              " 510.99310302734375,\n",
              " 511.2960205078125,\n",
              " 511.7334289550781,\n",
              " 511.689453125,\n",
              " 511.4703369140625,\n",
              " 511.64544677734375,\n",
              " 511.5140075683594,\n",
              " 511.3395080566406,\n",
              " 511.7334289550781,\n",
              " 511.3395080566406,\n",
              " 511.16583251953125,\n",
              " 511.4266357421875,\n",
              " 511.5140075683594,\n",
              " 511.689453125,\n",
              " 511.64544677734375,\n",
              " 511.6015930175781,\n",
              " 511.4703369140625,\n",
              " 511.5140075683594,\n",
              " 511.6015930175781,\n",
              " 511.689453125,\n",
              " 511.7774658203125,\n",
              " 511.9985046386719,\n",
              " 512.0429077148438,\n",
              " 512.6699829101562,\n",
              " 512.8057861328125,\n",
              " 512.53466796875,\n",
              " 512.39990234375,\n",
              " 512.53466796875,\n",
              " 512.7152099609375,\n",
              " 513.1245727539062,\n",
              " 512.9420776367188,\n",
              " 512.9876098632812,\n",
              " 512.8057861328125,\n",
              " 512.7152099609375,\n",
              " 512.8966064453125,\n",
              " 512.7152099609375,\n",
              " 512.7152099609375,\n",
              " 512.39990234375,\n",
              " 512.1763305664062,\n",
              " 512.0429077148438,\n",
              " 512.220947265625,\n",
              " 512.1318359375,\n",
              " 512.0873413085938,\n",
              " 512.310302734375,\n",
              " 512.220947265625,\n",
              " 512.6248779296875,\n",
              " 512.5797729492188,\n",
              " 512.310302734375,\n",
              " 512.4447631835938,\n",
              " 512.4447631835938,\n",
              " 512.1318359375,\n",
              " 512.0429077148438,\n",
              " 511.6015930175781,\n",
              " 511.2525634765625,\n",
              " 511.4703369140625,\n",
              " 511.3395080566406,\n",
              " 511.1225891113281,\n",
              " 511.03619384765625,\n",
              " 511.20916748046875,\n",
              " 511.3830261230469,\n",
              " 511.2525634765625,\n",
              " 511.3395080566406,\n",
              " 511.3830261230469,\n",
              " 511.3830261230469,\n",
              " 511.0793762207031,\n",
              " 511.3395080566406,\n",
              " 511.3395080566406,\n",
              " 511.2525634765625,\n",
              " 511.0793762207031,\n",
              " 511.0793762207031,\n",
              " 511.3395080566406,\n",
              " 511.2525634765625,\n",
              " 511.3395080566406,\n",
              " 511.20916748046875,\n",
              " 511.86572265625,\n",
              " 511.64544677734375,\n",
              " 511.55780029296875,\n",
              " 511.2525634765625,\n",
              " 510.8641357421875,\n",
              " 510.4801330566406,\n",
              " 510.22662353515625,\n",
              " 509.7669982910156,\n",
              " 509.85003662109375,\n",
              " 508.9078369140625,\n",
              " 509.5190734863281,\n",
              " 509.5190734863281,\n",
              " 509.1915588378906,\n",
              " 509.3958435058594,\n",
              " 509.72552490234375,\n",
              " 509.3958435058594,\n",
              " 509.3548583984375,\n",
              " 509.5190734863281,\n",
              " 510.0587158203125,\n",
              " 509.8085021972656,\n",
              " 509.72552490234375,\n",
              " 509.56024169921875,\n",
              " 509.60150146484375,\n",
              " 509.4779052734375,\n",
              " 509.0696105957031,\n",
              " 507.76055908203125,\n",
              " 507.79937744140625,\n",
              " 507.5287780761719,\n",
              " 507.6830749511719,\n",
              " 507.87713623046875,\n",
              " 508.1903991699219,\n",
              " 508.0333557128906,\n",
              " 507.6444396972656,\n",
              " 507.033203125,\n",
              " 507.07098388671875,\n",
              " 506.7325439453125,\n",
              " 507.3753356933594,\n",
              " 507.5287780761719,\n",
              " 507.1088562011719,\n",
              " 507.4903564453125,\n",
              " 507.3753356933594,\n",
              " 507.5287780761719,\n",
              " 507.26080322265625,\n",
              " 507.41363525390625,\n",
              " 508.0333557128906,\n",
              " 508.6667175292969,\n",
              " 507.9551696777344,\n",
              " 508.0725402832031,\n",
              " 507.4903564453125,\n",
              " 507.07098388671875,\n",
              " 507.5287780761719,\n",
              " 507.1847229003906,\n",
              " 507.26080322265625,\n",
              " 507.1847229003906,\n",
              " 507.2227478027344,\n",
              " 507.1847229003906,\n",
              " 506.25115966796875,\n",
              " 506.5835266113281,\n",
              " 507.26080322265625,\n",
              " 507.1088562011719,\n",
              " 507.1088562011719,\n",
              " 507.6058654785156,\n",
              " 507.7218322753906,\n",
              " 507.6058654785156,\n",
              " 506.8824157714844,\n",
              " 507.146728515625,\n",
              " 507.2989196777344,\n",
              " 507.26080322265625,\n",
              " 506.9200439453125,\n",
              " 507.2227478027344,\n",
              " 507.07098388671875,\n",
              " 507.1088562011719,\n",
              " 507.2227478027344,\n",
              " 507.6058654785156,\n",
              " 507.5672912597656,\n",
              " 507.6444396972656,\n",
              " 507.1847229003906,\n",
              " 507.2227478027344,\n",
              " 507.07098388671875,\n",
              " 506.6579284667969,\n",
              " 505.81451416015625,\n",
              " 505.8506164550781,\n",
              " 505.4562072753906,\n",
              " 505.4918212890625,\n",
              " 504.9979248046875,\n",
              " 504.78924560546875,\n",
              " 505.1731872558594,\n",
              " 505.1731872558594,\n",
              " 505.0328674316406,\n",
              " 505.5632019042969,\n",
              " 505.7064514160156,\n",
              " 505.88677978515625,\n",
              " 506.0683288574219]"
            ]
          },
          "metadata": {},
          "execution_count": 43
        }
      ],
      "source": [
        "p.tolist()\n",
        "[x[0] for x in p.tolist()]"
      ]
    },
    {
      "cell_type": "code",
      "execution_count": 44,
      "id": "f76fa1fb",
      "metadata": {
        "id": "f76fa1fb"
      },
      "outputs": [],
      "source": [
        "temp_dict = {\"predictions\":[x[0] for x in p.tolist()]}"
      ]
    },
    {
      "cell_type": "code",
      "execution_count": 45,
      "id": "7a10518b",
      "metadata": {
        "colab": {
          "base_uri": "https://localhost:8080/"
        },
        "id": "7a10518b",
        "outputId": "65a1e508-e70d-49ba-c79f-36058478180b"
      },
      "outputs": [
        {
          "output_type": "execute_result",
          "data": {
            "text/plain": [
              "518.2263793945312"
            ]
          },
          "metadata": {},
          "execution_count": 45
        }
      ],
      "source": [
        "temp_dict['predictions'][0]"
      ]
    },
    {
      "cell_type": "code",
      "execution_count": 46,
      "id": "09cc649b",
      "metadata": {
        "id": "09cc649b"
      },
      "outputs": [],
      "source": [
        "tt = 480\n",
        "ii = 1"
      ]
    },
    {
      "cell_type": "code",
      "execution_count": 47,
      "id": "b1f878d2",
      "metadata": {
        "colab": {
          "base_uri": "https://localhost:8080/",
          "height": 423
        },
        "id": "b1f878d2",
        "outputId": "71f4a11e-ef5b-4899-91af-4f56e69a271c"
      },
      "outputs": [
        {
          "output_type": "execute_result",
          "data": {
            "text/plain": [
              "              0\n",
              "0    518.226379\n",
              "1    518.277710\n",
              "2    518.380737\n",
              "3    518.380737\n",
              "4    518.432251\n",
              "..          ...\n",
              "475  507.799377\n",
              "476  507.528778\n",
              "477  507.683075\n",
              "478  507.877136\n",
              "479  508.190399\n",
              "\n",
              "[480 rows x 1 columns]"
            ],
            "text/html": [
              "\n",
              "  <div id=\"df-417f88f5-f881-4324-9da9-04fcc4d3a11b\">\n",
              "    <div class=\"colab-df-container\">\n",
              "      <div>\n",
              "<style scoped>\n",
              "    .dataframe tbody tr th:only-of-type {\n",
              "        vertical-align: middle;\n",
              "    }\n",
              "\n",
              "    .dataframe tbody tr th {\n",
              "        vertical-align: top;\n",
              "    }\n",
              "\n",
              "    .dataframe thead th {\n",
              "        text-align: right;\n",
              "    }\n",
              "</style>\n",
              "<table border=\"1\" class=\"dataframe\">\n",
              "  <thead>\n",
              "    <tr style=\"text-align: right;\">\n",
              "      <th></th>\n",
              "      <th>0</th>\n",
              "    </tr>\n",
              "  </thead>\n",
              "  <tbody>\n",
              "    <tr>\n",
              "      <th>0</th>\n",
              "      <td>518.226379</td>\n",
              "    </tr>\n",
              "    <tr>\n",
              "      <th>1</th>\n",
              "      <td>518.277710</td>\n",
              "    </tr>\n",
              "    <tr>\n",
              "      <th>2</th>\n",
              "      <td>518.380737</td>\n",
              "    </tr>\n",
              "    <tr>\n",
              "      <th>3</th>\n",
              "      <td>518.380737</td>\n",
              "    </tr>\n",
              "    <tr>\n",
              "      <th>4</th>\n",
              "      <td>518.432251</td>\n",
              "    </tr>\n",
              "    <tr>\n",
              "      <th>...</th>\n",
              "      <td>...</td>\n",
              "    </tr>\n",
              "    <tr>\n",
              "      <th>475</th>\n",
              "      <td>507.799377</td>\n",
              "    </tr>\n",
              "    <tr>\n",
              "      <th>476</th>\n",
              "      <td>507.528778</td>\n",
              "    </tr>\n",
              "    <tr>\n",
              "      <th>477</th>\n",
              "      <td>507.683075</td>\n",
              "    </tr>\n",
              "    <tr>\n",
              "      <th>478</th>\n",
              "      <td>507.877136</td>\n",
              "    </tr>\n",
              "    <tr>\n",
              "      <th>479</th>\n",
              "      <td>508.190399</td>\n",
              "    </tr>\n",
              "  </tbody>\n",
              "</table>\n",
              "<p>480 rows × 1 columns</p>\n",
              "</div>\n",
              "      <button class=\"colab-df-convert\" onclick=\"convertToInteractive('df-417f88f5-f881-4324-9da9-04fcc4d3a11b')\"\n",
              "              title=\"Convert this dataframe to an interactive table.\"\n",
              "              style=\"display:none;\">\n",
              "        \n",
              "  <svg xmlns=\"http://www.w3.org/2000/svg\" height=\"24px\"viewBox=\"0 0 24 24\"\n",
              "       width=\"24px\">\n",
              "    <path d=\"M0 0h24v24H0V0z\" fill=\"none\"/>\n",
              "    <path d=\"M18.56 5.44l.94 2.06.94-2.06 2.06-.94-2.06-.94-.94-2.06-.94 2.06-2.06.94zm-11 1L8.5 8.5l.94-2.06 2.06-.94-2.06-.94L8.5 2.5l-.94 2.06-2.06.94zm10 10l.94 2.06.94-2.06 2.06-.94-2.06-.94-.94-2.06-.94 2.06-2.06.94z\"/><path d=\"M17.41 7.96l-1.37-1.37c-.4-.4-.92-.59-1.43-.59-.52 0-1.04.2-1.43.59L10.3 9.45l-7.72 7.72c-.78.78-.78 2.05 0 2.83L4 21.41c.39.39.9.59 1.41.59.51 0 1.02-.2 1.41-.59l7.78-7.78 2.81-2.81c.8-.78.8-2.07 0-2.86zM5.41 20L4 18.59l7.72-7.72 1.47 1.35L5.41 20z\"/>\n",
              "  </svg>\n",
              "      </button>\n",
              "      \n",
              "  <style>\n",
              "    .colab-df-container {\n",
              "      display:flex;\n",
              "      flex-wrap:wrap;\n",
              "      gap: 12px;\n",
              "    }\n",
              "\n",
              "    .colab-df-convert {\n",
              "      background-color: #E8F0FE;\n",
              "      border: none;\n",
              "      border-radius: 50%;\n",
              "      cursor: pointer;\n",
              "      display: none;\n",
              "      fill: #1967D2;\n",
              "      height: 32px;\n",
              "      padding: 0 0 0 0;\n",
              "      width: 32px;\n",
              "    }\n",
              "\n",
              "    .colab-df-convert:hover {\n",
              "      background-color: #E2EBFA;\n",
              "      box-shadow: 0px 1px 2px rgba(60, 64, 67, 0.3), 0px 1px 3px 1px rgba(60, 64, 67, 0.15);\n",
              "      fill: #174EA6;\n",
              "    }\n",
              "\n",
              "    [theme=dark] .colab-df-convert {\n",
              "      background-color: #3B4455;\n",
              "      fill: #D2E3FC;\n",
              "    }\n",
              "\n",
              "    [theme=dark] .colab-df-convert:hover {\n",
              "      background-color: #434B5C;\n",
              "      box-shadow: 0px 1px 3px 1px rgba(0, 0, 0, 0.15);\n",
              "      filter: drop-shadow(0px 1px 2px rgba(0, 0, 0, 0.3));\n",
              "      fill: #FFFFFF;\n",
              "    }\n",
              "  </style>\n",
              "\n",
              "      <script>\n",
              "        const buttonEl =\n",
              "          document.querySelector('#df-417f88f5-f881-4324-9da9-04fcc4d3a11b button.colab-df-convert');\n",
              "        buttonEl.style.display =\n",
              "          google.colab.kernel.accessAllowed ? 'block' : 'none';\n",
              "\n",
              "        async function convertToInteractive(key) {\n",
              "          const element = document.querySelector('#df-417f88f5-f881-4324-9da9-04fcc4d3a11b');\n",
              "          const dataTable =\n",
              "            await google.colab.kernel.invokeFunction('convertToInteractive',\n",
              "                                                     [key], {});\n",
              "          if (!dataTable) return;\n",
              "\n",
              "          const docLinkHtml = 'Like what you see? Visit the ' +\n",
              "            '<a target=\"_blank\" href=https://colab.research.google.com/notebooks/data_table.ipynb>data table notebook</a>'\n",
              "            + ' to learn more about interactive tables.';\n",
              "          element.innerHTML = '';\n",
              "          dataTable['output_type'] = 'display_data';\n",
              "          await google.colab.output.renderOutput(dataTable, element);\n",
              "          const docLink = document.createElement('div');\n",
              "          docLink.innerHTML = docLinkHtml;\n",
              "          element.appendChild(docLink);\n",
              "        }\n",
              "      </script>\n",
              "    </div>\n",
              "  </div>\n",
              "  "
            ]
          },
          "metadata": {},
          "execution_count": 47
        }
      ],
      "source": [
        "temp_dict_df = pandas.DataFrame(temp_dict['predictions'][0:tt])\n",
        "temp_dict_df"
      ]
    },
    {
      "cell_type": "code",
      "execution_count": 62,
      "id": "e787408d",
      "metadata": {
        "colab": {
          "base_uri": "https://localhost:8080/"
        },
        "id": "e787408d",
        "outputId": "f5c381ee-f712-4e2c-adf1-02549e2d3759"
      },
      "outputs": [
        {
          "output_type": "execute_result",
          "data": {
            "text/plain": [
              "array([0, 1, 2, 3, 4])"
            ]
          },
          "metadata": {},
          "execution_count": 62
        }
      ],
      "source": [
        "i1 = np.arange(0,tt,ii)\n",
        "i1[:5]"
      ]
    },
    {
      "cell_type": "code",
      "execution_count": 49,
      "id": "299d9863",
      "metadata": {
        "colab": {
          "base_uri": "https://localhost:8080/",
          "height": 281
        },
        "id": "299d9863",
        "outputId": "ae33013a-1aa9-428f-8891-4ab47a8f3d82"
      },
      "outputs": [
        {
          "output_type": "execute_result",
          "data": {
            "text/plain": [
              "[<matplotlib.lines.Line2D at 0x7f4208661910>]"
            ]
          },
          "metadata": {},
          "execution_count": 49
        },
        {
          "output_type": "display_data",
          "data": {
            "text/plain": [
              "<Figure size 432x288 with 1 Axes>"
            ],
            "image/png": "[encoded data removed]"
          },
          "metadata": {
            "needs_background": "light"
          }
        }
      ],
      "source": [
        "plt.plot(i1[0:100] , temp_dict_df[0:100])"
      ]
    },
    {
      "cell_type": "code",
      "execution_count": 50,
      "id": "c406f905",
      "metadata": {
        "colab": {
          "base_uri": "https://localhost:8080/"
        },
        "id": "c406f905",
        "outputId": "79fe5d0d-2455-452a-eeb0-27a7f361799c"
      },
      "outputs": [
        {
          "output_type": "execute_result",
          "data": {
            "text/plain": [
              "Datetime\n",
              "2023-03-20 09:15:00+05:30    523.049988\n",
              "2023-03-20 09:16:00+05:30    522.549988\n",
              "2023-03-20 09:17:00+05:30    522.799988\n",
              "2023-03-20 09:18:00+05:30    522.849976\n",
              "2023-03-20 09:19:00+05:30    523.799988\n",
              "                                ...    \n",
              "2023-03-24 15:25:00+05:30    504.700012\n",
              "2023-03-24 15:26:00+05:30    504.899994\n",
              "2023-03-24 15:27:00+05:30    505.149994\n",
              "2023-03-24 15:28:00+05:30    505.399994\n",
              "2023-03-24 15:29:00+05:30    505.049988\n",
              "Name: Adj Close, Length: 1874, dtype: float64"
            ]
          },
          "metadata": {},
          "execution_count": 50
        }
      ],
      "source": [
        "stock_data['Adj Close']"
      ]
    },
    {
      "cell_type": "markdown",
      "id": "54c94662",
      "metadata": {
        "id": "54c94662"
      },
      "source": [
        "# Bollinger Band"
      ]
    },
    {
      "cell_type": "code",
      "execution_count": 51,
      "metadata": {
        "id": "qq5SkGOIiy_o"
      },
      "outputs": [],
      "source": [
        "symbol = stk_symbol[i_stk]\n",
        "def get_sma(prices, rate):\n",
        "    return prices.rolling(rate).mean()"
      ],
      "id": "qq5SkGOIiy_o"
    },
    {
      "cell_type": "code",
      "execution_count": 52,
      "id": "ea63c8a9",
      "metadata": {
        "id": "ea63c8a9"
      },
      "outputs": [],
      "source": [
        "#for 20 DMA with 2 std\n",
        "def get_bollinger_bands(close_price_col, rate=20):\n",
        "    sma = get_sma(close_price_col, rate)\n",
        "    std = close_price_col.rolling(rate).std()\n",
        "    bollinger_up = sma + std * 2 # Calculate top band\n",
        "    bollinger_down = sma - std * 2 # Calculate bottom band\n",
        "    return bollinger_up, bollinger_down\n"
      ]
    },
    {
      "cell_type": "code",
      "execution_count": 63,
      "id": "dc554ec8",
      "metadata": {
        "colab": {
          "base_uri": "https://localhost:8080/",
          "height": 294
        },
        "id": "dc554ec8",
        "outputId": "4f3630d1-6829-43d2-ac9e-833497e8e684"
      },
      "outputs": [
        {
          "output_type": "display_data",
          "data": {
            "text/plain": [
              "<Figure size 1440x288 with 1 Axes>"
            ],
            "image/png": "[encoded data removed]"
          },
          "metadata": {
            "needs_background": "light"
          }
        }
      ],
      "source": [
        "bollinger_up, bollinger_down = get_bollinger_bands(temp_dict_df)\n",
        "\n",
        "plt.figure().set_figwidth(20)\n",
        "plt.title(symbol + ' Bollinger Bands 20-DMA')\n",
        "plt.xlabel('Days')\n",
        "plt.ylabel('Closing Prices')\n",
        "plt.plot(temp_dict_df, label='Closing Prices')\n",
        "plt.plot(bollinger_up, label='BBU', c='red')\n",
        "plt.plot(bollinger_down, label='BBL', c='green')\n",
        "plt.legend()\n",
        "plt.show()"
      ]
    },
    {
      "cell_type": "code",
      "execution_count": 64,
      "id": "12591b7b",
      "metadata": {
        "id": "12591b7b"
      },
      "outputs": [],
      "source": [
        "#for 50 DMA with 2.5 std\n",
        "def get_bollinger_bands_50(close_price_col, rate=50):\n",
        "    sma = get_sma(close_price_col, rate)\n",
        "    std = close_price_col.rolling(rate).std()\n",
        "    bollinger_up = sma + std * 2.5\n",
        "    bollinger_down = sma - std * 2.5\n",
        "    return bollinger_up, bollinger_down\n"
      ]
    },
    {
      "cell_type": "code",
      "execution_count": 66,
      "id": "ed49bb20",
      "metadata": {
        "colab": {
          "base_uri": "https://localhost:8080/",
          "height": 294
        },
        "id": "ed49bb20",
        "outputId": "e3467ea7-506f-4750-8d09-f117d15e6b22"
      },
      "outputs": [
        {
          "output_type": "display_data",
          "data": {
            "text/plain": [
              "<Figure size 1440x288 with 1 Axes>"
            ],
            "image/png": "[encoded data removed]"
          },
          "metadata": {
            "needs_background": "light"
          }
        }
      ],
      "source": [
        "bollinger_up, bollinger_down = get_bollinger_bands_50(temp_dict_df)#.dropna()\n",
        "\n",
        "plt.figure().set_figwidth(20)\n",
        "plt.title(symbol + ' Bollinger Bands 50-DMA')\n",
        "plt.xlabel('Days')\n",
        "plt.ylabel('Closing Prices')\n",
        "plt.plot(temp_dict_df, label='Closing Prices')\n",
        "plt.plot(bollinger_up, label='BBU', c='r')\n",
        "plt.plot(bollinger_down, label='BBL', c='g')\n",
        "plt.legend()\n",
        "plt.show()"
      ]
    },
    {
      "cell_type": "markdown",
      "id": "121555aa",
      "metadata": {
        "id": "121555aa"
      },
      "source": [
        "    when graph touches red line(bollinger UP)     -> sell\n",
        "    when graph touches green line(bollinger DOWN) -> buy"
      ]
    },
    {
      "cell_type": "code",
      "source": [
        "# bollinger_down.rename(columns={0:'bbl'})\n",
        "bollinger_down.fillna(value=1, axis=0, inplace=True)\n",
        "bollinger_up.fillna(value=1, axis=0, inplace=True)"
      ],
      "metadata": {
        "id": "liN4x2MWsNzM"
      },
      "id": "liN4x2MWsNzM",
      "execution_count": 116,
      "outputs": []
    },
    {
      "cell_type": "code",
      "source": [
        "def implement_bb_strategy(data, lower_bb, upper_bb):\n",
        "    buy_price = []\n",
        "    sell_price = []\n",
        "    bb_signal = []\n",
        "    signal = 0\n",
        "    \n",
        "    for i in range(len(data[0])):\n",
        "        if (data[0][i] > lower_bb[0][i]) and (data[0][i] < lower_bb[0][i]):\n",
        "            if signal != 1:\n",
        "                buy_price.append(data[0][i])\n",
        "                sell_price.append(np.nan)\n",
        "                signal = 1\n",
        "                bb_signal.append(signal)\n",
        "            else:\n",
        "                buy_price.append(np.nan)\n",
        "                sell_price.append(np.nan)\n",
        "                bb_signal.append(0)\n",
        "        elif data[0][i] < upper_bb[0][i] and data[0][i] > upper_bb[0][i]:\n",
        "            if signal != -1:\n",
        "                buy_price.append(np.nan)\n",
        "                sell_price.append(data[0][i])\n",
        "                signal = -1\n",
        "                bb_signal.append(signal)\n",
        "            else:\n",
        "                buy_price.append(np.nan)\n",
        "                sell_price.append(np.nan)\n",
        "                bb_signal.append(0)\n",
        "        else:\n",
        "            buy_price.append(np.nan)\n",
        "            sell_price.append(np.nan)\n",
        "            bb_signal.append(0)\n",
        "            \n",
        "    return buy_price, sell_price, bb_signal\n",
        "\n",
        "buy_price, sell_price, bb_signal = implement_bb_strategy(temp_dict_df, bollinger_down, bollinger_up)"
      ],
      "metadata": {
        "colab": {
          "base_uri": "https://localhost:8080/",
          "height": 447
        },
        "id": "2P9LIBcbo--n",
        "outputId": "cf507e9c-5f69-4076-f80c-7c8a575d2338"
      },
      "id": "2P9LIBcbo--n",
      "execution_count": 143,
      "outputs": [
        {
          "output_type": "error",
          "ename": "KeyError",
          "evalue": "ignored",
          "traceback": [
            "\u001b[0;31m---------------------------------------------------------------------------\u001b[0m",
            "\u001b[0;31mValueError\u001b[0m                                Traceback (most recent call last)",
            "\u001b[0;32m/usr/local/lib/python3.9/dist-packages/pandas/core/indexes/range.py\u001b[0m in \u001b[0;36mget_loc\u001b[0;34m(self, key, method, tolerance)\u001b[0m\n\u001b[1;32m    384\u001b[0m                 \u001b[0;32mtry\u001b[0m\u001b[0;34m:\u001b[0m\u001b[0;34m\u001b[0m\u001b[0;34m\u001b[0m\u001b[0m\n\u001b[0;32m--> 385\u001b[0;31m                     \u001b[0;32mreturn\u001b[0m \u001b[0mself\u001b[0m\u001b[0;34m.\u001b[0m\u001b[0m_range\u001b[0m\u001b[0;34m.\u001b[0m\u001b[0mindex\u001b[0m\u001b[0;34m(\u001b[0m\u001b[0mnew_key\u001b[0m\u001b[0;34m)\u001b[0m\u001b[0;34m\u001b[0m\u001b[0;34m\u001b[0m\u001b[0m\n\u001b[0m\u001b[1;32m    386\u001b[0m                 \u001b[0;32mexcept\u001b[0m \u001b[0mValueError\u001b[0m \u001b[0;32mas\u001b[0m \u001b[0merr\u001b[0m\u001b[0;34m:\u001b[0m\u001b[0;34m\u001b[0m\u001b[0;34m\u001b[0m\u001b[0m\n",
            "\u001b[0;31mValueError\u001b[0m: 480 is not in range",
            "\nThe above exception was the direct cause of the following exception:\n",
            "\u001b[0;31mKeyError\u001b[0m                                  Traceback (most recent call last)",
            "\u001b[0;32m<ipython-input-143-112b4b8add6d>\u001b[0m in \u001b[0;36m<module>\u001b[0;34m\u001b[0m\n\u001b[1;32m     33\u001b[0m     \u001b[0;32mreturn\u001b[0m \u001b[0mbuy_price\u001b[0m\u001b[0;34m,\u001b[0m \u001b[0msell_price\u001b[0m\u001b[0;34m,\u001b[0m \u001b[0mbb_signal\u001b[0m\u001b[0;34m\u001b[0m\u001b[0;34m\u001b[0m\u001b[0m\n\u001b[1;32m     34\u001b[0m \u001b[0;34m\u001b[0m\u001b[0m\n\u001b[0;32m---> 35\u001b[0;31m \u001b[0mbuy_price\u001b[0m\u001b[0;34m,\u001b[0m \u001b[0msell_price\u001b[0m\u001b[0;34m,\u001b[0m \u001b[0mbb_signal\u001b[0m \u001b[0;34m=\u001b[0m \u001b[0mimplement_bb_strategy\u001b[0m\u001b[0;34m(\u001b[0m\u001b[0mtemp_dict_df\u001b[0m\u001b[0;34m,\u001b[0m \u001b[0mbollinger_down\u001b[0m\u001b[0;34m,\u001b[0m \u001b[0mbollinger_up\u001b[0m\u001b[0;34m)\u001b[0m\u001b[0;34m\u001b[0m\u001b[0;34m\u001b[0m\u001b[0m\n\u001b[0m",
            "\u001b[0;32m<ipython-input-143-112b4b8add6d>\u001b[0m in \u001b[0;36mimplement_bb_strategy\u001b[0;34m(data, lower_bb, upper_bb)\u001b[0m\n\u001b[1;32m      6\u001b[0m \u001b[0;34m\u001b[0m\u001b[0m\n\u001b[1;32m      7\u001b[0m     \u001b[0;32mfor\u001b[0m \u001b[0mi\u001b[0m \u001b[0;32min\u001b[0m \u001b[0mrange\u001b[0m\u001b[0;34m(\u001b[0m\u001b[0mlen\u001b[0m\u001b[0;34m(\u001b[0m\u001b[0mdata\u001b[0m\u001b[0;34m[\u001b[0m\u001b[0;36m0\u001b[0m\u001b[0;34m]\u001b[0m\u001b[0;34m)\u001b[0m\u001b[0;34m)\u001b[0m\u001b[0;34m:\u001b[0m\u001b[0;34m\u001b[0m\u001b[0;34m\u001b[0m\u001b[0m\n\u001b[0;32m----> 8\u001b[0;31m         \u001b[0;32mif\u001b[0m \u001b[0;34m(\u001b[0m\u001b[0mdata\u001b[0m\u001b[0;34m[\u001b[0m\u001b[0;36m0\u001b[0m\u001b[0;34m]\u001b[0m\u001b[0;34m[\u001b[0m\u001b[0mi\u001b[0m\u001b[0;34m]\u001b[0m \u001b[0;34m>\u001b[0m \u001b[0mlower_bb\u001b[0m\u001b[0;34m[\u001b[0m\u001b[0;36m0\u001b[0m\u001b[0;34m]\u001b[0m\u001b[0;34m[\u001b[0m\u001b[0mi\u001b[0m\u001b[0;34m]\u001b[0m\u001b[0;34m)\u001b[0m \u001b[0;32mand\u001b[0m \u001b[0;34m(\u001b[0m\u001b[0mdata\u001b[0m\u001b[0;34m[\u001b[0m\u001b[0;36m0\u001b[0m\u001b[0;34m]\u001b[0m\u001b[0;34m[\u001b[0m\u001b[0mi\u001b[0m\u001b[0;34m+\u001b[0m\u001b[0;36m1\u001b[0m\u001b[0;34m]\u001b[0m \u001b[0;34m<\u001b[0m \u001b[0mlower_bb\u001b[0m\u001b[0;34m[\u001b[0m\u001b[0;36m0\u001b[0m\u001b[0;34m]\u001b[0m\u001b[0;34m[\u001b[0m\u001b[0mi\u001b[0m\u001b[0;34m+\u001b[0m\u001b[0;36m1\u001b[0m\u001b[0;34m]\u001b[0m\u001b[0;34m)\u001b[0m\u001b[0;34m:\u001b[0m\u001b[0;34m\u001b[0m\u001b[0;34m\u001b[0m\u001b[0m\n\u001b[0m\u001b[1;32m      9\u001b[0m             \u001b[0;32mif\u001b[0m \u001b[0msignal\u001b[0m \u001b[0;34m!=\u001b[0m \u001b[0;36m1\u001b[0m\u001b[0;34m:\u001b[0m\u001b[0;34m\u001b[0m\u001b[0;34m\u001b[0m\u001b[0m\n\u001b[1;32m     10\u001b[0m                 \u001b[0mbuy_price\u001b[0m\u001b[0;34m.\u001b[0m\u001b[0mappend\u001b[0m\u001b[0;34m(\u001b[0m\u001b[0mdata\u001b[0m\u001b[0;34m[\u001b[0m\u001b[0;36m0\u001b[0m\u001b[0;34m]\u001b[0m\u001b[0;34m[\u001b[0m\u001b[0mi\u001b[0m\u001b[0;34m]\u001b[0m\u001b[0;34m)\u001b[0m\u001b[0;34m\u001b[0m\u001b[0;34m\u001b[0m\u001b[0m\n",
            "\u001b[0;32m/usr/local/lib/python3.9/dist-packages/pandas/core/series.py\u001b[0m in \u001b[0;36m__getitem__\u001b[0;34m(self, key)\u001b[0m\n\u001b[1;32m    956\u001b[0m \u001b[0;34m\u001b[0m\u001b[0m\n\u001b[1;32m    957\u001b[0m         \u001b[0;32melif\u001b[0m \u001b[0mkey_is_scalar\u001b[0m\u001b[0;34m:\u001b[0m\u001b[0;34m\u001b[0m\u001b[0;34m\u001b[0m\u001b[0m\n\u001b[0;32m--> 958\u001b[0;31m             \u001b[0;32mreturn\u001b[0m \u001b[0mself\u001b[0m\u001b[0;34m.\u001b[0m\u001b[0m_get_value\u001b[0m\u001b[0;34m(\u001b[0m\u001b[0mkey\u001b[0m\u001b[0;34m)\u001b[0m\u001b[0;34m\u001b[0m\u001b[0;34m\u001b[0m\u001b[0m\n\u001b[0m\u001b[1;32m    959\u001b[0m \u001b[0;34m\u001b[0m\u001b[0m\n\u001b[1;32m    960\u001b[0m         \u001b[0;32mif\u001b[0m \u001b[0mis_hashable\u001b[0m\u001b[0;34m(\u001b[0m\u001b[0mkey\u001b[0m\u001b[0;34m)\u001b[0m\u001b[0;34m:\u001b[0m\u001b[0;34m\u001b[0m\u001b[0;34m\u001b[0m\u001b[0m\n",
            "\u001b[0;32m/usr/local/lib/python3.9/dist-packages/pandas/core/series.py\u001b[0m in \u001b[0;36m_get_value\u001b[0;34m(self, label, takeable)\u001b[0m\n\u001b[1;32m   1067\u001b[0m \u001b[0;34m\u001b[0m\u001b[0m\n\u001b[1;32m   1068\u001b[0m         \u001b[0;31m# Similar to Index.get_value, but we do not fall back to positional\u001b[0m\u001b[0;34m\u001b[0m\u001b[0;34m\u001b[0m\u001b[0m\n\u001b[0;32m-> 1069\u001b[0;31m         \u001b[0mloc\u001b[0m \u001b[0;34m=\u001b[0m \u001b[0mself\u001b[0m\u001b[0;34m.\u001b[0m\u001b[0mindex\u001b[0m\u001b[0;34m.\u001b[0m\u001b[0mget_loc\u001b[0m\u001b[0;34m(\u001b[0m\u001b[0mlabel\u001b[0m\u001b[0;34m)\u001b[0m\u001b[0;34m\u001b[0m\u001b[0;34m\u001b[0m\u001b[0m\n\u001b[0m\u001b[1;32m   1070\u001b[0m         \u001b[0;32mreturn\u001b[0m \u001b[0mself\u001b[0m\u001b[0;34m.\u001b[0m\u001b[0mindex\u001b[0m\u001b[0;34m.\u001b[0m\u001b[0m_get_values_for_loc\u001b[0m\u001b[0;34m(\u001b[0m\u001b[0mself\u001b[0m\u001b[0;34m,\u001b[0m \u001b[0mloc\u001b[0m\u001b[0;34m,\u001b[0m \u001b[0mlabel\u001b[0m\u001b[0;34m)\u001b[0m\u001b[0;34m\u001b[0m\u001b[0;34m\u001b[0m\u001b[0m\n\u001b[1;32m   1071\u001b[0m \u001b[0;34m\u001b[0m\u001b[0m\n",
            "\u001b[0;32m/usr/local/lib/python3.9/dist-packages/pandas/core/indexes/range.py\u001b[0m in \u001b[0;36mget_loc\u001b[0;34m(self, key, method, tolerance)\u001b[0m\n\u001b[1;32m    385\u001b[0m                     \u001b[0;32mreturn\u001b[0m \u001b[0mself\u001b[0m\u001b[0;34m.\u001b[0m\u001b[0m_range\u001b[0m\u001b[0;34m.\u001b[0m\u001b[0mindex\u001b[0m\u001b[0;34m(\u001b[0m\u001b[0mnew_key\u001b[0m\u001b[0;34m)\u001b[0m\u001b[0;34m\u001b[0m\u001b[0;34m\u001b[0m\u001b[0m\n\u001b[1;32m    386\u001b[0m                 \u001b[0;32mexcept\u001b[0m \u001b[0mValueError\u001b[0m \u001b[0;32mas\u001b[0m \u001b[0merr\u001b[0m\u001b[0;34m:\u001b[0m\u001b[0;34m\u001b[0m\u001b[0;34m\u001b[0m\u001b[0m\n\u001b[0;32m--> 387\u001b[0;31m                     \u001b[0;32mraise\u001b[0m \u001b[0mKeyError\u001b[0m\u001b[0;34m(\u001b[0m\u001b[0mkey\u001b[0m\u001b[0;34m)\u001b[0m \u001b[0;32mfrom\u001b[0m \u001b[0merr\u001b[0m\u001b[0;34m\u001b[0m\u001b[0;34m\u001b[0m\u001b[0m\n\u001b[0m\u001b[1;32m    388\u001b[0m             \u001b[0mself\u001b[0m\u001b[0;34m.\u001b[0m\u001b[0m_check_indexing_error\u001b[0m\u001b[0;34m(\u001b[0m\u001b[0mkey\u001b[0m\u001b[0;34m)\u001b[0m\u001b[0;34m\u001b[0m\u001b[0;34m\u001b[0m\u001b[0m\n\u001b[1;32m    389\u001b[0m             \u001b[0;32mraise\u001b[0m \u001b[0mKeyError\u001b[0m\u001b[0;34m(\u001b[0m\u001b[0mkey\u001b[0m\u001b[0;34m)\u001b[0m\u001b[0;34m\u001b[0m\u001b[0;34m\u001b[0m\u001b[0m\n",
            "\u001b[0;31mKeyError\u001b[0m: 480"
          ]
        }
      ]
    },
    {
      "cell_type": "code",
      "source": [],
      "metadata": {
        "colab": {
          "base_uri": "https://localhost:8080/"
        },
        "id": "FFEGZBNHyCYS",
        "outputId": "221af5fc-1cd4-40d5-9bbc-b434a5ee6056"
      },
      "id": "FFEGZBNHyCYS",
      "execution_count": 142,
      "outputs": [
        {
          "output_type": "execute_result",
          "data": {
            "text/plain": [
              "[nan,\n",
              " nan,\n",
              " nan,\n",
              " nan,\n",
              " nan,\n",
              " nan,\n",
              " nan,\n",
              " nan,\n",
              " nan,\n",
              " nan,\n",
              " nan,\n",
              " nan,\n",
              " nan,\n",
              " nan,\n",
              " nan,\n",
              " nan,\n",
              " nan,\n",
              " nan,\n",
              " nan,\n",
              " nan,\n",
              " nan,\n",
              " nan,\n",
              " nan,\n",
              " nan,\n",
              " nan,\n",
              " nan,\n",
              " nan,\n",
              " nan,\n",
              " nan,\n",
              " nan,\n",
              " nan,\n",
              " nan,\n",
              " nan,\n",
              " nan,\n",
              " nan,\n",
              " nan,\n",
              " nan,\n",
              " nan,\n",
              " nan,\n",
              " nan,\n",
              " nan,\n",
              " nan,\n",
              " nan,\n",
              " nan,\n",
              " nan,\n",
              " nan,\n",
              " nan,\n",
              " nan,\n",
              " nan,\n",
              " nan,\n",
              " nan,\n",
              " nan,\n",
              " nan,\n",
              " nan,\n",
              " nan,\n",
              " nan,\n",
              " nan,\n",
              " nan,\n",
              " nan,\n",
              " nan,\n",
              " nan,\n",
              " nan,\n",
              " nan,\n",
              " nan,\n",
              " nan,\n",
              " nan,\n",
              " nan,\n",
              " nan,\n",
              " nan,\n",
              " nan,\n",
              " nan,\n",
              " nan,\n",
              " nan,\n",
              " nan,\n",
              " nan,\n",
              " nan,\n",
              " nan,\n",
              " nan,\n",
              " nan,\n",
              " nan,\n",
              " nan,\n",
              " nan,\n",
              " nan,\n",
              " nan,\n",
              " nan,\n",
              " nan,\n",
              " nan,\n",
              " nan,\n",
              " nan,\n",
              " nan,\n",
              " nan,\n",
              " nan,\n",
              " nan,\n",
              " nan,\n",
              " nan,\n",
              " nan,\n",
              " nan,\n",
              " nan,\n",
              " nan,\n",
              " nan,\n",
              " nan,\n",
              " nan,\n",
              " nan,\n",
              " nan,\n",
              " nan,\n",
              " nan,\n",
              " nan,\n",
              " nan,\n",
              " nan,\n",
              " nan,\n",
              " nan,\n",
              " nan,\n",
              " nan,\n",
              " nan,\n",
              " nan,\n",
              " nan,\n",
              " nan,\n",
              " nan,\n",
              " nan,\n",
              " nan,\n",
              " nan,\n",
              " nan,\n",
              " nan,\n",
              " nan,\n",
              " nan,\n",
              " nan,\n",
              " nan,\n",
              " nan,\n",
              " nan,\n",
              " nan,\n",
              " nan,\n",
              " nan,\n",
              " nan,\n",
              " nan,\n",
              " nan,\n",
              " nan,\n",
              " nan,\n",
              " nan,\n",
              " nan,\n",
              " nan,\n",
              " nan,\n",
              " nan,\n",
              " nan,\n",
              " nan,\n",
              " nan,\n",
              " nan,\n",
              " nan,\n",
              " nan,\n",
              " nan,\n",
              " nan,\n",
              " nan,\n",
              " nan,\n",
              " nan,\n",
              " nan,\n",
              " nan,\n",
              " nan,\n",
              " nan,\n",
              " nan,\n",
              " nan,\n",
              " nan,\n",
              " nan,\n",
              " nan,\n",
              " nan,\n",
              " nan,\n",
              " nan,\n",
              " nan,\n",
              " nan,\n",
              " nan,\n",
              " nan,\n",
              " nan,\n",
              " nan,\n",
              " nan,\n",
              " nan,\n",
              " nan,\n",
              " nan,\n",
              " nan,\n",
              " nan,\n",
              " nan,\n",
              " nan,\n",
              " nan,\n",
              " nan,\n",
              " nan,\n",
              " nan,\n",
              " nan,\n",
              " nan,\n",
              " nan,\n",
              " nan,\n",
              " nan,\n",
              " nan,\n",
              " nan,\n",
              " nan,\n",
              " nan,\n",
              " nan,\n",
              " nan,\n",
              " nan,\n",
              " nan,\n",
              " nan,\n",
              " nan,\n",
              " nan,\n",
              " nan,\n",
              " nan,\n",
              " nan,\n",
              " nan,\n",
              " nan,\n",
              " nan,\n",
              " nan,\n",
              " nan,\n",
              " nan,\n",
              " nan,\n",
              " nan,\n",
              " nan,\n",
              " nan,\n",
              " nan,\n",
              " nan,\n",
              " nan,\n",
              " nan,\n",
              " nan,\n",
              " nan,\n",
              " nan,\n",
              " nan,\n",
              " nan,\n",
              " nan,\n",
              " nan,\n",
              " nan,\n",
              " nan,\n",
              " nan,\n",
              " nan,\n",
              " nan,\n",
              " nan,\n",
              " nan,\n",
              " nan,\n",
              " nan,\n",
              " nan,\n",
              " nan,\n",
              " nan,\n",
              " nan,\n",
              " nan,\n",
              " nan,\n",
              " nan,\n",
              " nan,\n",
              " nan,\n",
              " nan,\n",
              " nan,\n",
              " nan,\n",
              " nan,\n",
              " nan,\n",
              " nan,\n",
              " nan,\n",
              " nan,\n",
              " nan,\n",
              " nan,\n",
              " nan,\n",
              " nan,\n",
              " nan,\n",
              " nan,\n",
              " nan,\n",
              " nan,\n",
              " nan,\n",
              " nan,\n",
              " nan,\n",
              " nan,\n",
              " nan,\n",
              " nan,\n",
              " nan,\n",
              " nan,\n",
              " nan,\n",
              " nan,\n",
              " nan,\n",
              " nan,\n",
              " nan,\n",
              " nan,\n",
              " nan,\n",
              " nan,\n",
              " nan,\n",
              " nan,\n",
              " nan,\n",
              " nan,\n",
              " nan,\n",
              " nan,\n",
              " nan,\n",
              " nan,\n",
              " nan,\n",
              " nan,\n",
              " nan,\n",
              " nan,\n",
              " nan,\n",
              " nan,\n",
              " nan,\n",
              " nan,\n",
              " nan,\n",
              " nan,\n",
              " nan,\n",
              " nan,\n",
              " nan,\n",
              " nan,\n",
              " nan,\n",
              " nan,\n",
              " nan,\n",
              " nan,\n",
              " nan,\n",
              " nan,\n",
              " nan,\n",
              " nan,\n",
              " nan,\n",
              " nan,\n",
              " nan,\n",
              " nan,\n",
              " nan,\n",
              " nan,\n",
              " nan,\n",
              " nan,\n",
              " nan,\n",
              " nan,\n",
              " nan,\n",
              " nan,\n",
              " nan,\n",
              " nan,\n",
              " nan,\n",
              " nan,\n",
              " nan,\n",
              " nan,\n",
              " nan,\n",
              " nan,\n",
              " nan,\n",
              " nan,\n",
              " nan,\n",
              " nan,\n",
              " nan,\n",
              " nan,\n",
              " nan,\n",
              " nan,\n",
              " nan,\n",
              " nan,\n",
              " nan,\n",
              " nan,\n",
              " nan,\n",
              " nan,\n",
              " nan,\n",
              " nan,\n",
              " nan,\n",
              " nan,\n",
              " nan,\n",
              " nan,\n",
              " nan,\n",
              " nan,\n",
              " nan,\n",
              " nan,\n",
              " nan,\n",
              " nan,\n",
              " nan,\n",
              " nan,\n",
              " nan,\n",
              " nan,\n",
              " nan,\n",
              " nan,\n",
              " nan,\n",
              " nan,\n",
              " nan,\n",
              " nan,\n",
              " nan,\n",
              " nan,\n",
              " nan,\n",
              " nan,\n",
              " nan,\n",
              " nan,\n",
              " nan,\n",
              " nan,\n",
              " nan,\n",
              " nan,\n",
              " nan,\n",
              " nan,\n",
              " nan,\n",
              " nan,\n",
              " nan,\n",
              " nan,\n",
              " nan,\n",
              " nan,\n",
              " nan,\n",
              " nan,\n",
              " nan,\n",
              " nan,\n",
              " nan,\n",
              " nan,\n",
              " nan,\n",
              " nan,\n",
              " nan,\n",
              " nan,\n",
              " nan,\n",
              " nan,\n",
              " nan,\n",
              " nan,\n",
              " nan,\n",
              " nan,\n",
              " nan,\n",
              " nan,\n",
              " nan,\n",
              " nan,\n",
              " nan,\n",
              " nan,\n",
              " nan,\n",
              " nan,\n",
              " nan,\n",
              " nan,\n",
              " nan,\n",
              " nan,\n",
              " nan,\n",
              " nan,\n",
              " nan,\n",
              " nan,\n",
              " nan,\n",
              " nan,\n",
              " nan,\n",
              " nan,\n",
              " nan,\n",
              " nan,\n",
              " nan,\n",
              " nan,\n",
              " nan,\n",
              " nan,\n",
              " nan,\n",
              " nan,\n",
              " nan,\n",
              " nan,\n",
              " nan,\n",
              " nan,\n",
              " nan,\n",
              " nan,\n",
              " nan,\n",
              " nan,\n",
              " nan,\n",
              " nan,\n",
              " nan,\n",
              " nan,\n",
              " nan,\n",
              " nan,\n",
              " nan,\n",
              " nan,\n",
              " nan,\n",
              " nan,\n",
              " nan,\n",
              " nan,\n",
              " nan,\n",
              " nan,\n",
              " nan,\n",
              " nan,\n",
              " nan,\n",
              " nan,\n",
              " nan,\n",
              " nan,\n",
              " nan,\n",
              " nan,\n",
              " nan,\n",
              " nan,\n",
              " nan,\n",
              " nan,\n",
              " nan,\n",
              " nan,\n",
              " nan,\n",
              " nan,\n",
              " nan,\n",
              " nan,\n",
              " nan,\n",
              " nan,\n",
              " nan,\n",
              " nan,\n",
              " nan,\n",
              " nan,\n",
              " nan,\n",
              " nan,\n",
              " nan,\n",
              " nan,\n",
              " nan,\n",
              " nan,\n",
              " nan,\n",
              " nan,\n",
              " nan,\n",
              " nan,\n",
              " nan,\n",
              " nan,\n",
              " nan]"
            ]
          },
          "metadata": {},
          "execution_count": 142
        }
      ]
    },
    {
      "cell_type": "markdown",
      "source": [
        "\n",
        "\n",
        "---\n",
        "\n",
        "\n",
        "\n",
        "---\n",
        "\n"
      ],
      "metadata": {
        "id": "6eP2zFGIpagA"
      },
      "id": "6eP2zFGIpagA"
    },
    {
      "cell_type": "code",
      "execution_count": 56,
      "id": "34a65926",
      "metadata": {
        "id": "34a65926"
      },
      "outputs": [],
      "source": [
        "import datetime"
      ]
    },
    {
      "cell_type": "code",
      "execution_count": 57,
      "id": "036df26a",
      "metadata": {
        "colab": {
          "base_uri": "https://localhost:8080/"
        },
        "id": "036df26a",
        "outputId": "ed93b908-8ba6-486c-a41a-dd8130641425"
      },
      "outputs": [
        {
          "output_type": "execute_result",
          "data": {
            "text/plain": [
              "(0    512.129895\n",
              " dtype: float64, 0    513.95845\n",
              " dtype: float64)"
            ]
          },
          "metadata": {},
          "execution_count": 57
        }
      ],
      "source": [
        "bdown = bollinger_down.mean()\n",
        "bup = bollinger_up.mean()\n",
        "bdown,bup"
      ]
    },
    {
      "cell_type": "code",
      "execution_count": 58,
      "id": "e02905f3",
      "metadata": {
        "id": "e02905f3"
      },
      "outputs": [],
      "source": [
        "bollinger_down.fillna(value=bdown, inplace=True)\n",
        "bollinger_up.fillna(value=bup, inplace=True)"
      ]
    },
    {
      "cell_type": "code",
      "execution_count": 70,
      "id": "e06d1d6f",
      "metadata": {
        "colab": {
          "base_uri": "https://localhost:8080/"
        },
        "id": "e06d1d6f",
        "outputId": "9305733e-3a47-4350-e2fd-cdf29e36220d"
      },
      "outputs": [
        {
          "output_type": "stream",
          "name": "stdout",
          "text": [
            "513.2660380335054\n",
            "508.1903991699219\n",
            "507.13150347040084\n"
          ]
        }
      ],
      "source": [
        "print(bollinger_up.iloc[-1][0])\n",
        "print(temp_dict_df.iloc[-1][0])\n",
        "print(bollinger_down.iloc[-1][0])\n",
        "msg1=''\n",
        "if temp_dict_df.iloc[-1][0] > bollinger_up.iloc[-1][0]:\n",
        "    msg1 = \"buy signal - \"+ symbol + \" @ \" + str(datetime.datetime.now())\n",
        "    print(msg1)\n",
        "if temp_dict_df.iloc[-1][0] < bollinger_down.iloc[-1][0]:\n",
        "    msg1 = \"sell signal - \"+ symbol + \" @ \" + str(datetime.datetime.now())\n",
        "    print(msg1)\n"
      ]
    },
    {
      "cell_type": "code",
      "execution_count": 74,
      "id": "31102f8f",
      "metadata": {
        "id": "31102f8f"
      },
      "outputs": [],
      "source": [
        "import requests\n",
        "\n",
        "def send_to_telegram(message):\n",
        "    apiToken = \"6227645743:AAFVdG3kyQDFbiQa3AHM8T05Rdu9BacDu2Y\"\n",
        "    chatID = \"960358723\"\n",
        "    apiURL = f\"https://api.telegram.org/bot{apiToken}/sendMessage?chat_id={chatID}&text={message}\"\n",
        "\n",
        "    try:\n",
        "        response = requests.post(apiURL, chatID, message)\n",
        "        print(response.text)\n",
        "    except Exception as e:\n",
        "        print(e)\n",
        "\n",
        "if len(msg1)>0:\n",
        "    send_to_telegram(msg1)"
      ]
    },
    {
      "cell_type": "markdown",
      "id": "db1167c4",
      "metadata": {
        "id": "db1167c4"
      },
      "source": [
        "## RSI\n",
        "The Relative Strength Index (RSI) is a momentum indicator that describes the current price relative to average high and low prices over a previous trading period. This indicator estimates overbought or oversold status and helps spot trend reversals, price pullbacks, and the emergence of bullish or bearish markets."
      ]
    },
    {
      "cell_type": "markdown",
      "id": "44ffa7d9",
      "metadata": {
        "id": "44ffa7d9"
      },
      "source": [
        "# MACD\n",
        "Moving average convergence/divergence (MACD, or MAC-D) is a trend-following momentum indicator that shows the relationship between two exponential moving averages (EMAs) of a security’s price. The MACD line is calculated by subtracting the 26-period EMA from the 12-period EMA.\n",
        "The result of that calculation is the MACD line. A nine-day EMA of the MACD line is called the signal line, which is then plotted on top of the MACD line, which can function as a trigger for buy or sell signals. Traders may buy the security when the MACD line crosses above the signal line and sell—or short—the security when the MACD line crosses below the signal line."
      ]
    },
    {
      "cell_type": "code",
      "execution_count": 75,
      "id": "dfdb9be2",
      "metadata": {
        "id": "dfdb9be2"
      },
      "outputs": [],
      "source": [
        "def get_macd(df, slow, fast, smooth):\n",
        "    exp1 = df.ewm(span = fast, adjust = False).mean()\n",
        "    exp2 = df.ewm(span = slow, adjust = False).mean()\n",
        "    macd = pd.DataFrame(exp1 - exp2).rename(columns={'Close':'macd'})\n",
        "    signal = pd.DataFrame(macd.ewm(span = smooth, adjust = False).mean()).rename(columns={'macd':'signal'})\n",
        "    hist = pd.DataFrame(macd['macd'] - signal['signal']).rename(columns = {0:'hist'})\n",
        "    frames =  [macd, signal, hist]\n",
        "    df = pd.concat(frames, join = 'inner', axis = 1)\n",
        "    return df\n"
      ]
    },
    {
      "cell_type": "code",
      "execution_count": 76,
      "id": "155d25a6",
      "metadata": {
        "colab": {
          "base_uri": "https://localhost:8080/",
          "height": 405
        },
        "id": "155d25a6",
        "outputId": "915d77c3-41a1-4e16-822a-e24f955b454a"
      },
      "outputs": [
        {
          "output_type": "execute_result",
          "data": {
            "text/plain": [
              "                               Open      High       Low      macd  Adj Close  \\\n",
              "Datetime                                                                       \n",
              "2023-03-24 15:25:00+05:30 -0.862238 -0.821699 -0.842253 -0.792979  -0.792979   \n",
              "2023-03-24 15:26:00+05:30 -0.821305 -0.774894 -0.794379 -0.724463  -0.724463   \n",
              "2023-03-24 15:27:00+05:30 -0.751954 -0.701472 -0.707932 -0.642584  -0.642584   \n",
              "2023-03-24 15:28:00+05:30 -0.669107 -0.623988 -0.616180 -0.551168  -0.551168   \n",
              "2023-03-24 15:29:00+05:30 -0.584608 -0.556171 -0.561205 -0.501185  -0.501185   \n",
              "\n",
              "                                 Volume  MA for 50 days  MA for 200 days  \\\n",
              "Datetime                                                                   \n",
              "2023-03-24 15:25:00+05:30  18791.732653       -0.378345        -0.238974   \n",
              "2023-03-24 15:26:00+05:30  18425.554893       -0.376866        -0.243933   \n",
              "2023-03-24 15:27:00+05:30  18963.329527       -0.374921        -0.248489   \n",
              "2023-03-24 15:28:00+05:30  20696.032393       -0.371678        -0.252378   \n",
              "2023-03-24 15:29:00+05:30  21494.235124       -0.368332        -0.255879   \n",
              "\n",
              "                           Daily Return      Open      High       Low  \\\n",
              "Datetime                                                                \n",
              "2023-03-24 15:25:00+05:30      0.000110 -0.640924 -0.656556 -0.657295   \n",
              "2023-03-24 15:26:00+05:30      0.000136 -0.677000 -0.680224 -0.684712   \n",
              "2023-03-24 15:27:00+05:30      0.000162 -0.691991 -0.684473 -0.689356   \n",
              "2023-03-24 15:28:00+05:30      0.000181 -0.687414 -0.672376 -0.674721   \n",
              "2023-03-24 15:29:00+05:30      0.000099 -0.666853 -0.649135 -0.652018   \n",
              "\n",
              "                             signal  Adj Close        Volume  MA for 50 days  \\\n",
              "Datetime                                                                       \n",
              "2023-03-24 15:25:00+05:30 -0.672730  -0.672730  16216.197082       -0.394832   \n",
              "2023-03-24 15:26:00+05:30 -0.683076  -0.683076  16658.068645       -0.391239   \n",
              "2023-03-24 15:27:00+05:30 -0.674978  -0.674978  17119.120821       -0.387975   \n",
              "2023-03-24 15:28:00+05:30 -0.650216  -0.650216  17834.503135       -0.384716   \n",
              "2023-03-24 15:29:00+05:30 -0.620410  -0.620410  18566.449533       -0.381439   \n",
              "\n",
              "                           MA for 200 days  Daily Return      hist  \n",
              "Datetime                                                            \n",
              "2023-03-24 15:25:00+05:30        -0.220146     -0.000060 -0.120249  \n",
              "2023-03-24 15:26:00+05:30        -0.224904     -0.000020 -0.041387  \n",
              "2023-03-24 15:27:00+05:30        -0.229621      0.000016  0.032394  \n",
              "2023-03-24 15:28:00+05:30        -0.234172      0.000049  0.099048  \n",
              "2023-03-24 15:29:00+05:30        -0.238513      0.000059  0.119225  "
            ],
            "text/html": [
              "\n",
              "  <div id=\"df-b6de0d64-3f74-4d43-99cd-9707e2e5d1e6\">\n",
              "    <div class=\"colab-df-container\">\n",
              "      <div>\n",
              "<style scoped>\n",
              "    .dataframe tbody tr th:only-of-type {\n",
              "        vertical-align: middle;\n",
              "    }\n",
              "\n",
              "    .dataframe tbody tr th {\n",
              "        vertical-align: top;\n",
              "    }\n",
              "\n",
              "    .dataframe thead th {\n",
              "        text-align: right;\n",
              "    }\n",
              "</style>\n",
              "<table border=\"1\" class=\"dataframe\">\n",
              "  <thead>\n",
              "    <tr style=\"text-align: right;\">\n",
              "      <th></th>\n",
              "      <th>Open</th>\n",
              "      <th>High</th>\n",
              "      <th>Low</th>\n",
              "      <th>macd</th>\n",
              "      <th>Adj Close</th>\n",
              "      <th>Volume</th>\n",
              "      <th>MA for 50 days</th>\n",
              "      <th>MA for 200 days</th>\n",
              "      <th>Daily Return</th>\n",
              "      <th>Open</th>\n",
              "      <th>High</th>\n",
              "      <th>Low</th>\n",
              "      <th>signal</th>\n",
              "      <th>Adj Close</th>\n",
              "      <th>Volume</th>\n",
              "      <th>MA for 50 days</th>\n",
              "      <th>MA for 200 days</th>\n",
              "      <th>Daily Return</th>\n",
              "      <th>hist</th>\n",
              "    </tr>\n",
              "    <tr>\n",
              "      <th>Datetime</th>\n",
              "      <th></th>\n",
              "      <th></th>\n",
              "      <th></th>\n",
              "      <th></th>\n",
              "      <th></th>\n",
              "      <th></th>\n",
              "      <th></th>\n",
              "      <th></th>\n",
              "      <th></th>\n",
              "      <th></th>\n",
              "      <th></th>\n",
              "      <th></th>\n",
              "      <th></th>\n",
              "      <th></th>\n",
              "      <th></th>\n",
              "      <th></th>\n",
              "      <th></th>\n",
              "      <th></th>\n",
              "      <th></th>\n",
              "    </tr>\n",
              "  </thead>\n",
              "  <tbody>\n",
              "    <tr>\n",
              "      <th>2023-03-24 15:25:00+05:30</th>\n",
              "      <td>-0.862238</td>\n",
              "      <td>-0.821699</td>\n",
              "      <td>-0.842253</td>\n",
              "      <td>-0.792979</td>\n",
              "      <td>-0.792979</td>\n",
              "      <td>18791.732653</td>\n",
              "      <td>-0.378345</td>\n",
              "      <td>-0.238974</td>\n",
              "      <td>0.000110</td>\n",
              "      <td>-0.640924</td>\n",
              "      <td>-0.656556</td>\n",
              "      <td>-0.657295</td>\n",
              "      <td>-0.672730</td>\n",
              "      <td>-0.672730</td>\n",
              "      <td>16216.197082</td>\n",
              "      <td>-0.394832</td>\n",
              "      <td>-0.220146</td>\n",
              "      <td>-0.000060</td>\n",
              "      <td>-0.120249</td>\n",
              "    </tr>\n",
              "    <tr>\n",
              "      <th>2023-03-24 15:26:00+05:30</th>\n",
              "      <td>-0.821305</td>\n",
              "      <td>-0.774894</td>\n",
              "      <td>-0.794379</td>\n",
              "      <td>-0.724463</td>\n",
              "      <td>-0.724463</td>\n",
              "      <td>18425.554893</td>\n",
              "      <td>-0.376866</td>\n",
              "      <td>-0.243933</td>\n",
              "      <td>0.000136</td>\n",
              "      <td>-0.677000</td>\n",
              "      <td>-0.680224</td>\n",
              "      <td>-0.684712</td>\n",
              "      <td>-0.683076</td>\n",
              "      <td>-0.683076</td>\n",
              "      <td>16658.068645</td>\n",
              "      <td>-0.391239</td>\n",
              "      <td>-0.224904</td>\n",
              "      <td>-0.000020</td>\n",
              "      <td>-0.041387</td>\n",
              "    </tr>\n",
              "    <tr>\n",
              "      <th>2023-03-24 15:27:00+05:30</th>\n",
              "      <td>-0.751954</td>\n",
              "      <td>-0.701472</td>\n",
              "      <td>-0.707932</td>\n",
              "      <td>-0.642584</td>\n",
              "      <td>-0.642584</td>\n",
              "      <td>18963.329527</td>\n",
              "      <td>-0.374921</td>\n",
              "      <td>-0.248489</td>\n",
              "      <td>0.000162</td>\n",
              "      <td>-0.691991</td>\n",
              "      <td>-0.684473</td>\n",
              "      <td>-0.689356</td>\n",
              "      <td>-0.674978</td>\n",
              "      <td>-0.674978</td>\n",
              "      <td>17119.120821</td>\n",
              "      <td>-0.387975</td>\n",
              "      <td>-0.229621</td>\n",
              "      <td>0.000016</td>\n",
              "      <td>0.032394</td>\n",
              "    </tr>\n",
              "    <tr>\n",
              "      <th>2023-03-24 15:28:00+05:30</th>\n",
              "      <td>-0.669107</td>\n",
              "      <td>-0.623988</td>\n",
              "      <td>-0.616180</td>\n",
              "      <td>-0.551168</td>\n",
              "      <td>-0.551168</td>\n",
              "      <td>20696.032393</td>\n",
              "      <td>-0.371678</td>\n",
              "      <td>-0.252378</td>\n",
              "      <td>0.000181</td>\n",
              "      <td>-0.687414</td>\n",
              "      <td>-0.672376</td>\n",
              "      <td>-0.674721</td>\n",
              "      <td>-0.650216</td>\n",
              "      <td>-0.650216</td>\n",
              "      <td>17834.503135</td>\n",
              "      <td>-0.384716</td>\n",
              "      <td>-0.234172</td>\n",
              "      <td>0.000049</td>\n",
              "      <td>0.099048</td>\n",
              "    </tr>\n",
              "    <tr>\n",
              "      <th>2023-03-24 15:29:00+05:30</th>\n",
              "      <td>-0.584608</td>\n",
              "      <td>-0.556171</td>\n",
              "      <td>-0.561205</td>\n",
              "      <td>-0.501185</td>\n",
              "      <td>-0.501185</td>\n",
              "      <td>21494.235124</td>\n",
              "      <td>-0.368332</td>\n",
              "      <td>-0.255879</td>\n",
              "      <td>0.000099</td>\n",
              "      <td>-0.666853</td>\n",
              "      <td>-0.649135</td>\n",
              "      <td>-0.652018</td>\n",
              "      <td>-0.620410</td>\n",
              "      <td>-0.620410</td>\n",
              "      <td>18566.449533</td>\n",
              "      <td>-0.381439</td>\n",
              "      <td>-0.238513</td>\n",
              "      <td>0.000059</td>\n",
              "      <td>0.119225</td>\n",
              "    </tr>\n",
              "  </tbody>\n",
              "</table>\n",
              "</div>\n",
              "      <button class=\"colab-df-convert\" onclick=\"convertToInteractive('df-b6de0d64-3f74-4d43-99cd-9707e2e5d1e6')\"\n",
              "              title=\"Convert this dataframe to an interactive table.\"\n",
              "              style=\"display:none;\">\n",
              "        \n",
              "  <svg xmlns=\"http://www.w3.org/2000/svg\" height=\"24px\"viewBox=\"0 0 24 24\"\n",
              "       width=\"24px\">\n",
              "    <path d=\"M0 0h24v24H0V0z\" fill=\"none\"/>\n",
              "    <path d=\"M18.56 5.44l.94 2.06.94-2.06 2.06-.94-2.06-.94-.94-2.06-.94 2.06-2.06.94zm-11 1L8.5 8.5l.94-2.06 2.06-.94-2.06-.94L8.5 2.5l-.94 2.06-2.06.94zm10 10l.94 2.06.94-2.06 2.06-.94-2.06-.94-.94-2.06-.94 2.06-2.06.94z\"/><path d=\"M17.41 7.96l-1.37-1.37c-.4-.4-.92-.59-1.43-.59-.52 0-1.04.2-1.43.59L10.3 9.45l-7.72 7.72c-.78.78-.78 2.05 0 2.83L4 21.41c.39.39.9.59 1.41.59.51 0 1.02-.2 1.41-.59l7.78-7.78 2.81-2.81c.8-.78.8-2.07 0-2.86zM5.41 20L4 18.59l7.72-7.72 1.47 1.35L5.41 20z\"/>\n",
              "  </svg>\n",
              "      </button>\n",
              "      \n",
              "  <style>\n",
              "    .colab-df-container {\n",
              "      display:flex;\n",
              "      flex-wrap:wrap;\n",
              "      gap: 12px;\n",
              "    }\n",
              "\n",
              "    .colab-df-convert {\n",
              "      background-color: #E8F0FE;\n",
              "      border: none;\n",
              "      border-radius: 50%;\n",
              "      cursor: pointer;\n",
              "      display: none;\n",
              "      fill: #1967D2;\n",
              "      height: 32px;\n",
              "      padding: 0 0 0 0;\n",
              "      width: 32px;\n",
              "    }\n",
              "\n",
              "    .colab-df-convert:hover {\n",
              "      background-color: #E2EBFA;\n",
              "      box-shadow: 0px 1px 2px rgba(60, 64, 67, 0.3), 0px 1px 3px 1px rgba(60, 64, 67, 0.15);\n",
              "      fill: #174EA6;\n",
              "    }\n",
              "\n",
              "    [theme=dark] .colab-df-convert {\n",
              "      background-color: #3B4455;\n",
              "      fill: #D2E3FC;\n",
              "    }\n",
              "\n",
              "    [theme=dark] .colab-df-convert:hover {\n",
              "      background-color: #434B5C;\n",
              "      box-shadow: 0px 1px 3px 1px rgba(0, 0, 0, 0.15);\n",
              "      filter: drop-shadow(0px 1px 2px rgba(0, 0, 0, 0.3));\n",
              "      fill: #FFFFFF;\n",
              "    }\n",
              "  </style>\n",
              "\n",
              "      <script>\n",
              "        const buttonEl =\n",
              "          document.querySelector('#df-b6de0d64-3f74-4d43-99cd-9707e2e5d1e6 button.colab-df-convert');\n",
              "        buttonEl.style.display =\n",
              "          google.colab.kernel.accessAllowed ? 'block' : 'none';\n",
              "\n",
              "        async function convertToInteractive(key) {\n",
              "          const element = document.querySelector('#df-b6de0d64-3f74-4d43-99cd-9707e2e5d1e6');\n",
              "          const dataTable =\n",
              "            await google.colab.kernel.invokeFunction('convertToInteractive',\n",
              "                                                     [key], {});\n",
              "          if (!dataTable) return;\n",
              "\n",
              "          const docLinkHtml = 'Like what you see? Visit the ' +\n",
              "            '<a target=\"_blank\" href=https://colab.research.google.com/notebooks/data_table.ipynb>data table notebook</a>'\n",
              "            + ' to learn more about interactive tables.';\n",
              "          element.innerHTML = '';\n",
              "          dataTable['output_type'] = 'display_data';\n",
              "          await google.colab.output.renderOutput(dataTable, element);\n",
              "          const docLink = document.createElement('div');\n",
              "          docLink.innerHTML = docLinkHtml;\n",
              "          element.appendChild(docLink);\n",
              "        }\n",
              "      </script>\n",
              "    </div>\n",
              "  </div>\n",
              "  "
            ]
          },
          "metadata": {},
          "execution_count": 76
        }
      ],
      "source": [
        "\n",
        "stk_macd = get_macd(stock_data, 26, 12, 9)\n",
        "stk_macd.tail()"
      ]
    },
    {
      "cell_type": "code",
      "execution_count": 77,
      "id": "e94b9ece",
      "metadata": {
        "id": "e94b9ece"
      },
      "outputs": [],
      "source": [
        "def implement_macd_strategy(prices, data):    \n",
        "    buy_price = []\n",
        "    sell_price = []\n",
        "    macd_signal = []\n",
        "    signal = 0\n",
        "\n",
        "    for i in range(len(data)):\n",
        "        if data['macd'][i] > data['signal'][i]:\n",
        "            if signal != 1:\n",
        "                buy_price.append(prices[i])\n",
        "                sell_price.append(np.nan)\n",
        "                signal = 1\n",
        "                macd_signal.append(signal)\n",
        "            else:\n",
        "                buy_price.append(np.nan)\n",
        "                sell_price.append(np.nan)\n",
        "                macd_signal.append(0)\n",
        "        elif data['macd'][i] < data['signal'][i]:\n",
        "            if signal != -1:\n",
        "                buy_price.append(np.nan)\n",
        "                sell_price.append(prices[i])\n",
        "                signal = -1\n",
        "                macd_signal.append(signal)\n",
        "            else:\n",
        "                buy_price.append(np.nan)\n",
        "                sell_price.append(np.nan)\n",
        "                macd_signal.append(0)\n",
        "        else:\n",
        "            buy_price.append(np.nan)\n",
        "            sell_price.append(np.nan)\n",
        "            macd_signal.append(0)\n",
        "            \n",
        "    return buy_price, sell_price, macd_signal\n",
        "            \n",
        "buy_price, sell_price, macd_signal = implement_macd_strategy(dt, stk_macd)"
      ]
    },
    {
      "cell_type": "code",
      "execution_count": 80,
      "id": "68808cfe",
      "metadata": {
        "colab": {
          "base_uri": "https://localhost:8080/",
          "height": 493
        },
        "id": "68808cfe",
        "outputId": "048b074b-83cf-4aae-bf0a-88154a107a86"
      },
      "outputs": [
        {
          "output_type": "display_data",
          "data": {
            "text/plain": [
              "<Figure size 1440x576 with 1 Axes>"
            ],
            "image/png": "[encoded data removed]"
          },
          "metadata": {
            "needs_background": "light"
          }
        }
      ],
      "source": [
        "## macd signal plot\n",
        "plt.figure(figsize=(20,8))\n",
        "plt.plot(stock_data, color = 'skyblue', linewidth = 2)\n",
        "plt.plot(stk_macd.index, buy_price, marker = '^', color = 'g', markersize = 5, label = 'BUY SIGNAL', linewidth = 0)\n",
        "plt.plot(stk_macd.index, sell_price, marker = 'v', color = 'r', markersize = 5, label = 'SELL SIGNAL', linewidth = 0)\n",
        "plt.title('STOCK MACD SIGNALS')\n",
        "plt.legend()\n",
        "plt.show()\n"
      ]
    },
    {
      "cell_type": "code",
      "execution_count": 81,
      "id": "5a81efb0",
      "metadata": {
        "colab": {
          "base_uri": "https://localhost:8080/",
          "height": 479
        },
        "id": "5a81efb0",
        "outputId": "116683f6-fea6-472a-ddb4-d537d5519bf0"
      },
      "outputs": [
        {
          "output_type": "display_data",
          "data": {
            "text/plain": [
              "<Figure size 1080x576 with 1 Axes>"
            ],
            "image/png": "[encoded data removed]"
          },
          "metadata": {
            "needs_background": "light"
          }
        }
      ],
      "source": [
        "## macd VS signal plotr\n",
        "plt.figure(figsize=(15,8))\n",
        "plt.plot(stk_macd['macd'], color = 'red', linewidth = 1, label = 'MACD')\n",
        "plt.plot(stk_macd['signal'], color = 'green', linewidth = 1, label = 'SIGNAL')\n",
        "\n",
        "for i in range(len(stk_macd)):\n",
        "    if str(stk_macd['hist'][i])[0] == '-':\n",
        "        plt.bar(stk_macd.index[i], stk_macd['hist'][i], color = 'green')\n",
        "    else:\n",
        "        plt.bar(stk_macd.index[i], stk_macd['hist'][i], color = 'red')\n",
        "\n",
        "plt.legend(loc = 'lower right')\n",
        "plt.show()"
      ]
    },
    {
      "cell_type": "code",
      "execution_count": null,
      "id": "15f4439b",
      "metadata": {
        "id": "15f4439b"
      },
      "outputs": [],
      "source": []
    }
  ],
  "metadata": {
    "kernelspec": {
      "display_name": "Python 3 (ipykernel)",
      "language": "python",
      "name": "python3"
    },
    "language_info": {
      "codemirror_mode": {
        "name": "ipython",
        "version": 3
      },
      "file_extension": ".py",
      "mimetype": "text/x-python",
      "name": "python",
      "nbconvert_exporter": "python",
      "pygments_lexer": "ipython3",
      "version": "3.10.10"
    },
    "colab": {
      "provenance": [],
      "include_colab_link": true
    }
  },
  "nbformat": 4,
  "nbformat_minor": 5
}